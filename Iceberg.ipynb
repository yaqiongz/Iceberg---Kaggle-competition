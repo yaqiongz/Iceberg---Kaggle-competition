{
 "cells": [
  {
   "cell_type": "markdown",
   "metadata": {},
   "source": [
    "This program read the preprocessed data, in .npy format\n",
    "\n",
    "use Convnet to train a model"
   ]
  },
  {
   "cell_type": "markdown",
   "metadata": {},
   "source": [
    "This jupyter notebook is built with these previous contributors:\n",
    "1. https://www.kaggle.com/devm2024/keras-model-for-beginners-0-210-on-lb-eda-r-d Keras Model for Beginners (0.210 on LB)+EDA+R&D by DeveshMaheshwari\n",
    "2. https://www.kaggle.com/toregil/welcome-to-deep-learning-cnn-99 Welcome to deep learning (CNN 99%) by Peter Grenholm\n",
    "3. https://machinelearningmastery.com/display-deep-learning-model-training-history-in-keras/ Display Deep Learning Model Training History in Keras by Jason Brownlee\n",
    "4. https://machinelearningmastery.com/evaluate-performance-deep-learning-models-keras/ Evaluate the Performance Of Deep Learning Models in Keras by Jason Brownlee"
   ]
  },
  {
   "cell_type": "code",
   "execution_count": 1,
   "metadata": {
    "collapsed": true
   },
   "outputs": [],
   "source": [
    "import numpy as np\n",
    "import pandas as pd\n",
    "from sklearn.model_selection import train_test_split\n",
    "from os.path import join as opj\n",
    "from matplotlib import pyplot as plt\n",
    "from mpl_toolkits.mplot3d import Axes3D\n",
    "import pylab\n",
    "plt.rcParams['figure.figsize'] = 10, 10\n",
    "%matplotlib inline"
   ]
  },
  {
   "cell_type": "code",
   "execution_count": 2,
   "metadata": {
    "collapsed": true
   },
   "outputs": [],
   "source": [
    "#import training data\n",
    "X_train_rotate = np.load(\"X_train_rotate.npy\")\n",
    "target_train = np.load(\"target_train.npy\")"
   ]
  },
  {
   "cell_type": "code",
   "execution_count": 3,
   "metadata": {},
   "outputs": [
    {
     "name": "stdout",
     "output_type": "stream",
     "text": [
      "(4812, 75, 75, 2)\n",
      "(4812,)\n"
     ]
    }
   ],
   "source": [
    "print(X_train_rotate.shape)\n",
    "print(target_train.shape)"
   ]
  },
  {
   "cell_type": "markdown",
   "metadata": {},
   "source": [
    "for i in range(100):\n",
    "    fig = plt.figure()\n",
    "    ax = fig.add_subplot(1,2,1)\n",
    "    ax.imshow(X_band_1[i])\n",
    "    ax2= fig.add_subplot(1,2,2)\n",
    "    ax2.imshow(X_band_2[i])\n",
    "    plt.title(train['is_iceberg'][i])\n",
    "    "
   ]
  },
  {
   "cell_type": "markdown",
   "metadata": {},
   "source": [
    "# Convnet with Keras"
   ]
  },
  {
   "cell_type": "markdown",
   "metadata": {},
   "source": [
    "### keras init"
   ]
  },
  {
   "cell_type": "code",
   "execution_count": 4,
   "metadata": {},
   "outputs": [
    {
     "name": "stderr",
     "output_type": "stream",
     "text": [
      "Using TensorFlow backend.\n",
      "/Users/yaqiongzhang/anaconda/lib/python3.6/importlib/_bootstrap.py:205: RuntimeWarning: compiletime version 3.5 of module 'tensorflow.python.framework.fast_tensor_util' does not match runtime version 3.6\n",
      "  return f(*args, **kwds)\n"
     ]
    }
   ],
   "source": [
    "#Import Keras.\n",
    "from matplotlib import pyplot\n",
    "from keras.preprocessing.image import ImageDataGenerator\n",
    "from keras.models import Sequential\n",
    "from keras.layers import Conv2D, MaxPooling2D, Dense, Dropout, Input, Flatten, Activation, BatchNormalization\n",
    "from keras.layers import GlobalMaxPooling2D\n",
    "from keras.layers.normalization import BatchNormalization\n",
    "from keras.layers.merge import Concatenate\n",
    "from keras.models import Model\n",
    "from keras import initializers\n",
    "from keras.optimizers import Adam\n",
    "from keras.callbacks import ModelCheckpoint, Callback, EarlyStopping"
   ]
  },
  {
   "cell_type": "code",
   "execution_count": 5,
   "metadata": {
    "collapsed": true
   },
   "outputs": [],
   "source": [
    "#define our model\n",
    "def getModel():\n",
    "    #Building the model\n",
    "    gmodel=Sequential()\n",
    "    #Conv Layer 1\n",
    "    gmodel.add(Conv2D(64, kernel_size=(3, 3),activation='relu', input_shape=(75, 75, 2)))\n",
    "    gmodel.add(BatchNormalization())\n",
    "    gmodel.add(Conv2D(64, kernel_size=(3, 3),activation='relu'))\n",
    "    gmodel.add(BatchNormalization())\n",
    "    gmodel.add(MaxPooling2D(pool_size=(2, 2), strides=(2, 2)))\n",
    "    gmodel.add(Dropout(0.2))\n",
    "\n",
    "    gmodel.add(Conv2D(64, kernel_size=(3, 3),activation='relu'))\n",
    "    gmodel.add(BatchNormalization())\n",
    "    gmodel.add(Conv2D(64, kernel_size=(3, 3),activation='relu'))\n",
    "    gmodel.add(BatchNormalization())\n",
    "    gmodel.add(MaxPooling2D(pool_size=(2, 2), strides=(2, 2)))\n",
    "    gmodel.add(Dropout(0.2))\n",
    "    \n",
    "    #Flatten the data for upcoming dense layers\n",
    "    gmodel.add(Flatten())\n",
    "\n",
    "    #Dense Layers\n",
    "    gmodel.add(Dense(512))\n",
    "    gmodel.add(Activation('relu'))\n",
    "    gmodel.add(Dropout(0.2))\n",
    "\n",
    "    #Dense Layer 2\n",
    "    gmodel.add(Dense(256))\n",
    "    gmodel.add(Activation('relu'))\n",
    "    gmodel.add(Dropout(0.2))\n",
    "\n",
    "    #Sigmoid Layer\n",
    "    gmodel.add(Dense(1))\n",
    "    gmodel.add(Activation('sigmoid'))\n",
    "\n",
    "    mypotim=Adam(lr=0.001, beta_1=0.9, beta_2=0.999, epsilon=1e-08, decay=0.0)\n",
    "    gmodel.compile(loss='binary_crossentropy',\n",
    "                  optimizer=mypotim,\n",
    "                  metrics=['accuracy'])\n",
    "    gmodel.summary()\n",
    "    return gmodel\n",
    "\n",
    "\n",
    "def get_callbacks(filepath, patience=2):\n",
    "    es = EarlyStopping('val_loss', patience=patience, mode=\"min\")\n",
    "    msave = ModelCheckpoint(filepath, save_best_only=True)\n",
    "    return [es, msave]\n",
    "\n",
    "file_path = \"model_weights.hdf5\"\n",
    "callbacks = get_callbacks(filepath=file_path, patience=5)"
   ]
  },
  {
   "cell_type": "markdown",
   "metadata": {},
   "source": [
    "### Split data for validation"
   ]
  },
  {
   "cell_type": "code",
   "execution_count": 6,
   "metadata": {
    "collapsed": true
   },
   "outputs": [],
   "source": [
    "#import testing data\n",
    "X_test = np.load(\"X_test.npy\")\n",
    "test_id = np.load(\"test_id.npy\")"
   ]
  },
  {
   "cell_type": "code",
   "execution_count": 7,
   "metadata": {},
   "outputs": [
    {
     "data": {
      "text/plain": [
       "'#https://machinelearningmastery.com/use-keras-deep-learning-models-scikit-learn-python/\\n\\n# fix random seed for reproducibility\\n\\nfrom sklearn.model_selection import StratifiedKFold\\nfrom keras.wrappers.scikit_learn import KerasClassifier\\nfrom sklearn.model_selection import StratifiedKFold\\nfrom sklearn.model_selection import cross_val_score\\n\\nseed = 7\\nnp.random.seed(seed)\\n\\ngmodel = KerasClassifier(build_fn=getModel,\\n                         epochs = 10,\\n                         batch_size = 20,\\n                         verbose = 1,\\n                         )\\n\\n# evaluate using 10-fold cross validation\\nkfold = StratifiedKFold(n_splits=10, shuffle=True, random_state=seed)\\nresults = cross_val_score(gmodel, X_train_rotate, target_train, cv=kfold)\\n\\n'"
      ]
     },
     "execution_count": 7,
     "metadata": {},
     "output_type": "execute_result"
    }
   ],
   "source": [
    "'''#https://machinelearningmastery.com/use-keras-deep-learning-models-scikit-learn-python/\n",
    "\n",
    "# fix random seed for reproducibility\n",
    "\n",
    "from sklearn.model_selection import StratifiedKFold\n",
    "from keras.wrappers.scikit_learn import KerasClassifier\n",
    "from sklearn.model_selection import StratifiedKFold\n",
    "from sklearn.model_selection import cross_val_score\n",
    "\n",
    "seed = 7\n",
    "np.random.seed(seed)\n",
    "\n",
    "gmodel = KerasClassifier(build_fn=getModel,\n",
    "                         epochs = 10,\n",
    "                         batch_size = 20,\n",
    "                         verbose = 1,\n",
    "                         )\n",
    "\n",
    "# evaluate using 10-fold cross validation\n",
    "kfold = StratifiedKFold(n_splits=10, shuffle=True, random_state=seed)\n",
    "results = cross_val_score(gmodel, X_train_rotate, target_train, cv=kfold)\n",
    "\n",
    "'''"
   ]
  },
  {
   "cell_type": "code",
   "execution_count": 8,
   "metadata": {},
   "outputs": [
    {
     "name": "stdout",
     "output_type": "stream",
     "text": [
      "_________________________________________________________________\n",
      "Layer (type)                 Output Shape              Param #   \n",
      "=================================================================\n",
      "conv2d_1 (Conv2D)            (None, 73, 73, 64)        1216      \n",
      "_________________________________________________________________\n",
      "batch_normalization_1 (Batch (None, 73, 73, 64)        256       \n",
      "_________________________________________________________________\n",
      "conv2d_2 (Conv2D)            (None, 71, 71, 64)        36928     \n",
      "_________________________________________________________________\n",
      "batch_normalization_2 (Batch (None, 71, 71, 64)        256       \n",
      "_________________________________________________________________\n",
      "max_pooling2d_1 (MaxPooling2 (None, 35, 35, 64)        0         \n",
      "_________________________________________________________________\n",
      "dropout_1 (Dropout)          (None, 35, 35, 64)        0         \n",
      "_________________________________________________________________\n",
      "conv2d_3 (Conv2D)            (None, 33, 33, 64)        36928     \n",
      "_________________________________________________________________\n",
      "batch_normalization_3 (Batch (None, 33, 33, 64)        256       \n",
      "_________________________________________________________________\n",
      "conv2d_4 (Conv2D)            (None, 31, 31, 64)        36928     \n",
      "_________________________________________________________________\n",
      "batch_normalization_4 (Batch (None, 31, 31, 64)        256       \n",
      "_________________________________________________________________\n",
      "max_pooling2d_2 (MaxPooling2 (None, 15, 15, 64)        0         \n",
      "_________________________________________________________________\n",
      "dropout_2 (Dropout)          (None, 15, 15, 64)        0         \n",
      "_________________________________________________________________\n",
      "flatten_1 (Flatten)          (None, 14400)             0         \n",
      "_________________________________________________________________\n",
      "dense_1 (Dense)              (None, 512)               7373312   \n",
      "_________________________________________________________________\n",
      "activation_1 (Activation)    (None, 512)               0         \n",
      "_________________________________________________________________\n",
      "dropout_3 (Dropout)          (None, 512)               0         \n",
      "_________________________________________________________________\n",
      "dense_2 (Dense)              (None, 256)               131328    \n",
      "_________________________________________________________________\n",
      "activation_2 (Activation)    (None, 256)               0         \n",
      "_________________________________________________________________\n",
      "dropout_4 (Dropout)          (None, 256)               0         \n",
      "_________________________________________________________________\n",
      "dense_3 (Dense)              (None, 1)                 257       \n",
      "_________________________________________________________________\n",
      "activation_3 (Activation)    (None, 1)                 0         \n",
      "=================================================================\n",
      "Total params: 7,617,921\n",
      "Trainable params: 7,617,409\n",
      "Non-trainable params: 512\n",
      "_________________________________________________________________\n",
      "Train on 4330 samples, validate on 482 samples\n",
      "Epoch 1/30\n",
      "4330/4330 [==============================] - 375s 87ms/step - loss: 0.7010 - acc: 0.7307 - val_loss: 0.6564 - val_acc: 0.6535\n",
      "Epoch 2/30\n",
      "4330/4330 [==============================] - 373s 86ms/step - loss: 0.4095 - acc: 0.8238 - val_loss: 0.7080 - val_acc: 0.6950\n",
      "Epoch 3/30\n",
      "4330/4330 [==============================] - 361s 83ms/step - loss: 0.4305 - acc: 0.8226 - val_loss: 1.3924 - val_acc: 0.6245\n",
      "Epoch 4/30\n",
      "4330/4330 [==============================] - 372s 86ms/step - loss: 0.3573 - acc: 0.8473 - val_loss: 0.6861 - val_acc: 0.7531\n",
      "Epoch 5/30\n",
      "4330/4330 [==============================] - 378s 87ms/step - loss: 0.2799 - acc: 0.8804 - val_loss: 0.4818 - val_acc: 0.7324\n",
      "Epoch 6/30\n",
      "4330/4330 [==============================] - 374s 86ms/step - loss: 0.2720 - acc: 0.8903 - val_loss: 0.5264 - val_acc: 0.7635\n",
      "Epoch 7/30\n",
      "4330/4330 [==============================] - 379s 87ms/step - loss: 0.2456 - acc: 0.8986 - val_loss: 0.4020 - val_acc: 0.8071\n",
      "Epoch 8/30\n",
      "4330/4330 [==============================] - 399s 92ms/step - loss: 0.2146 - acc: 0.9092 - val_loss: 0.5484 - val_acc: 0.7905\n",
      "Epoch 9/30\n",
      "4330/4330 [==============================] - 368s 85ms/step - loss: 0.2390 - acc: 0.9042 - val_loss: 0.4015 - val_acc: 0.7822\n",
      "Epoch 10/30\n",
      "4330/4330 [==============================] - 385s 89ms/step - loss: 0.1939 - acc: 0.9194 - val_loss: 0.3483 - val_acc: 0.8693\n",
      "Epoch 11/30\n",
      "4330/4330 [==============================] - 369s 85ms/step - loss: 0.1861 - acc: 0.9349 - val_loss: 0.4620 - val_acc: 0.8071\n",
      "Epoch 12/30\n",
      "4330/4330 [==============================] - 366s 85ms/step - loss: 0.1705 - acc: 0.9374 - val_loss: 0.2843 - val_acc: 0.8817\n",
      "Epoch 13/30\n",
      "4330/4330 [==============================] - 372s 86ms/step - loss: 0.1252 - acc: 0.9554 - val_loss: 0.5486 - val_acc: 0.8402\n",
      "Epoch 14/30\n",
      "4330/4330 [==============================] - 379s 88ms/step - loss: 0.1052 - acc: 0.9582 - val_loss: 0.3281 - val_acc: 0.8651\n",
      "Epoch 15/30\n",
      "4330/4330 [==============================] - 372s 86ms/step - loss: 0.0989 - acc: 0.9697 - val_loss: 2.7062 - val_acc: 0.6494\n",
      "Epoch 16/30\n",
      "4330/4330 [==============================] - 399s 92ms/step - loss: 0.0870 - acc: 0.9721 - val_loss: 0.3710 - val_acc: 0.8651\n",
      "Epoch 17/30\n",
      "4330/4330 [==============================] - 399s 92ms/step - loss: 0.0909 - acc: 0.9725 - val_loss: 0.4475 - val_acc: 0.8320\n"
     ]
    }
   ],
   "source": [
    "X_train_cv, X_valid, y_train_cv, y_valid = train_test_split(X_train_rotate, target_train, random_state=1, train_size=0.9)\n",
    "#Without denoising, core features.\n",
    "\n",
    "import os\n",
    "gmodel=getModel()\n",
    "history = gmodel.fit(X_train_cv, y_train_cv,\n",
    "          batch_size=24,\n",
    "          epochs=30,\n",
    "          verbose=1,\n",
    "          validation_data=(X_valid, y_valid),\n",
    "          callbacks=callbacks)"
   ]
  },
  {
   "cell_type": "code",
   "execution_count": 9,
   "metadata": {},
   "outputs": [
    {
     "data": {
      "text/plain": [
       "'from sklearn.model_selection import StratifiedKFold\\nkfold = StratifiedKFold(n_splits=10)\\nsub_list = []\\ni=0\\n\\nimport os\\ngmodel=getModel()\\nfor train_index, test_index in kfold.split(X_train_rotate, target_train):\\n    gmodel.fit(X_train_rotate[train_index], target_train[train_index], \\n               batch_size = 24,\\n               epochs = 1,\\n               verbose = 1,\\n               validation_data=(X_train_rotate[test_index], target_train[test_index]),\\n               callbacks=callbacks)\\n    \\n    #predict in the loop\\n    print(\\'loaddata\\')\\n    gmodel.load_weights(filepath=file_path)\\n    print(\\'predict\\')\\n    predicted_test=gmodel.predict_proba(X_test)\\n    print(\"predicted\")\\n    sub_list [i] = predicted_test.reshape((predicted_test.shape[0]))\\n    i = i+1'"
      ]
     },
     "execution_count": 9,
     "metadata": {},
     "output_type": "execute_result"
    }
   ],
   "source": [
    "'''from sklearn.model_selection import StratifiedKFold\n",
    "kfold = StratifiedKFold(n_splits=10)\n",
    "sub_list = []\n",
    "i=0\n",
    "\n",
    "import os\n",
    "gmodel=getModel()\n",
    "for train_index, test_index in kfold.split(X_train_rotate, target_train):\n",
    "    gmodel.fit(X_train_rotate[train_index], target_train[train_index], \n",
    "               batch_size = 24,\n",
    "               epochs = 1,\n",
    "               verbose = 1,\n",
    "               validation_data=(X_train_rotate[test_index], target_train[test_index]),\n",
    "               callbacks=callbacks)\n",
    "    \n",
    "    #predict in the loop\n",
    "    print('loaddata')\n",
    "    gmodel.load_weights(filepath=file_path)\n",
    "    print('predict')\n",
    "    predicted_test=gmodel.predict_proba(X_test)\n",
    "    print(\"predicted\")\n",
    "    sub_list [i] = predicted_test.reshape((predicted_test.shape[0]))\n",
    "    i = i+1'''"
   ]
  },
  {
   "cell_type": "markdown",
   "metadata": {},
   "source": [
    "### Training with Keras"
   ]
  },
  {
   "cell_type": "code",
   "execution_count": 11,
   "metadata": {
    "scrolled": true
   },
   "outputs": [
    {
     "name": "stdout",
     "output_type": "stream",
     "text": [
      "482/482 [==============================] - 14s 30ms/step\n",
      "Test loss: 0.284251779303\n",
      "Test accuracy: 0.881742738589\n"
     ]
    }
   ],
   "source": [
    "gmodel.load_weights(filepath=file_path)\n",
    "score = gmodel.evaluate(X_valid, y_valid, verbose=1)\n",
    "print('Test loss:', score[0])\n",
    "print('Test accuracy:', score[1])"
   ]
  },
  {
   "cell_type": "markdown",
   "metadata": {},
   "source": [
    "### plot training history"
   ]
  },
  {
   "cell_type": "code",
   "execution_count": 12,
   "metadata": {},
   "outputs": [
    {
     "name": "stdout",
     "output_type": "stream",
     "text": [
      "dict_keys(['val_loss', 'val_acc', 'loss', 'acc'])\n"
     ]
    },
    {
     "data": {
      "image/png": "[encoded data removed]",
      "text/plain": [
       "<matplotlib.figure.Figure at 0x150a1b780>"
      ]
     },
     "metadata": {},
     "output_type": "display_data"
    },
    {
     "data": {
      "image/png": "[encoded data removed]",
      "text/plain": [
       "<matplotlib.figure.Figure at 0x108afcc88>"
      ]
     },
     "metadata": {},
     "output_type": "display_data"
    }
   ],
   "source": [
    "print(history.history.keys())\n",
    "# summarize history for accuracy\n",
    "plt.plot(history.history['acc'])\n",
    "plt.plot(history.history['val_acc'])\n",
    "plt.title('model accuracy')\n",
    "plt.ylabel('accuracy')\n",
    "plt.xlabel('epoch')\n",
    "plt.legend(['train', 'test'], loc='upper left')\n",
    "plt.show()\n",
    "# summarize history for loss\n",
    "plt.plot(history.history['loss'])\n",
    "plt.plot(history.history['val_loss'])\n",
    "plt.title('model loss')\n",
    "plt.ylabel('loss')\n",
    "plt.xlabel('epoch')\n",
    "plt.legend(['train', 'test'], loc='upper left')\n",
    "plt.show()"
   ]
  },
  {
   "cell_type": "markdown",
   "metadata": {},
   "source": [
    "# predict the test.json "
   ]
  },
  {
   "cell_type": "code",
   "execution_count": 13,
   "metadata": {
    "collapsed": true
   },
   "outputs": [],
   "source": [
    "predicted_test=gmodel.predict_proba(X_test)"
   ]
  },
  {
   "cell_type": "code",
   "execution_count": 15,
   "metadata": {},
   "outputs": [],
   "source": [
    "submission = pd.DataFrame()\n",
    "submission['id']=test_id\n",
    "submission['is_iceberg']=predicted_test.reshape((predicted_test.shape[0]))\n",
    "submission.to_csv('sub.csv', index=False)"
   ]
  },
  {
   "cell_type": "code",
   "execution_count": null,
   "metadata": {
    "collapsed": true
   },
   "outputs": [],
   "source": []
  }
 ],
 "metadata": {
  "kernelspec": {
   "display_name": "Python 3",
   "language": "python",
   "name": "python3"
  },
  "language_info": {
   "codemirror_mode": {
    "name": "ipython",
    "version": 3
   },
   "file_extension": ".py",
   "mimetype": "text/x-python",
   "name": "python",
   "nbconvert_exporter": "python",
   "pygments_lexer": "ipython3",
   "version": "3.6.1"
  }
 },
 "nbformat": 4,
 "nbformat_minor": 2
}
