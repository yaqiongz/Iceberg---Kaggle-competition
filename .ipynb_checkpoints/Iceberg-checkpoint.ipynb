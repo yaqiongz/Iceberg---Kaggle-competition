{
 "cells": [
  {
   "cell_type": "code",
   "execution_count": 1,
   "metadata": {
    "collapsed": true
   },
   "outputs": [],
   "source": [
    "import numpy as np\n",
    "import pandas as pd\n",
    "from sklearn.model_selection import train_test_split\n",
    "from os.path import join as opj\n",
    "from matplotlib import pyplot as plt\n",
    "from mpl_toolkits.mplot3d import Axes3D\n",
    "import pylab\n",
    "plt.rcParams['figure.figsize'] = 10, 10\n",
    "%matplotlib inline"
   ]
  },
  {
   "cell_type": "code",
   "execution_count": 2,
   "metadata": {
    "collapsed": true,
    "scrolled": true
   },
   "outputs": [],
   "source": [
    "#Load the data.\n",
    "train = pd.read_json(\"train.json\")\n",
    "test = pd.read_json(\"test.json\")"
   ]
  },
  {
   "cell_type": "code",
   "execution_count": 3,
   "metadata": {},
   "outputs": [
    {
     "data": {
      "text/html": [
       "<div>\n",
       "<style>\n",
       "    .dataframe thead tr:only-child th {\n",
       "        text-align: right;\n",
       "    }\n",
       "\n",
       "    .dataframe thead th {\n",
       "        text-align: left;\n",
       "    }\n",
       "\n",
       "    .dataframe tbody tr th {\n",
       "        vertical-align: top;\n",
       "    }\n",
       "</style>\n",
       "<table border=\"1\" class=\"dataframe\">\n",
       "  <thead>\n",
       "    <tr style=\"text-align: right;\">\n",
       "      <th></th>\n",
       "      <th>band_1</th>\n",
       "      <th>band_2</th>\n",
       "      <th>id</th>\n",
       "      <th>inc_angle</th>\n",
       "      <th>is_iceberg</th>\n",
       "    </tr>\n",
       "  </thead>\n",
       "  <tbody>\n",
       "    <tr>\n",
       "      <th>0</th>\n",
       "      <td>[-27.878360999999998, -27.15416, -28.668615, -...</td>\n",
       "      <td>[-27.154118, -29.537888, -31.0306, -32.190483,...</td>\n",
       "      <td>dfd5f913</td>\n",
       "      <td>43.9239</td>\n",
       "      <td>0</td>\n",
       "    </tr>\n",
       "    <tr>\n",
       "      <th>1</th>\n",
       "      <td>[-12.242375, -14.920304999999999, -14.920363, ...</td>\n",
       "      <td>[-31.506321, -27.984554, -26.645678, -23.76760...</td>\n",
       "      <td>e25388fd</td>\n",
       "      <td>38.1562</td>\n",
       "      <td>0</td>\n",
       "    </tr>\n",
       "    <tr>\n",
       "      <th>2</th>\n",
       "      <td>[-24.603676, -24.603714, -24.871029, -23.15277...</td>\n",
       "      <td>[-24.870956, -24.092632, -20.653963, -19.41104...</td>\n",
       "      <td>58b2aaa0</td>\n",
       "      <td>45.2859</td>\n",
       "      <td>1</td>\n",
       "    </tr>\n",
       "    <tr>\n",
       "      <th>3</th>\n",
       "      <td>[-22.454607, -23.082819, -23.998013, -23.99805...</td>\n",
       "      <td>[-27.889421, -27.519794, -27.165262, -29.10350...</td>\n",
       "      <td>4cfc3a18</td>\n",
       "      <td>43.8306</td>\n",
       "      <td>0</td>\n",
       "    </tr>\n",
       "    <tr>\n",
       "      <th>4</th>\n",
       "      <td>[-26.006956, -23.164886, -23.164886, -26.89116...</td>\n",
       "      <td>[-27.206915, -30.259186, -30.259186, -23.16495...</td>\n",
       "      <td>271f93f4</td>\n",
       "      <td>35.6256</td>\n",
       "      <td>0</td>\n",
       "    </tr>\n",
       "  </tbody>\n",
       "</table>\n",
       "</div>"
      ],
      "text/plain": [
       "                                              band_1  \\\n",
       "0  [-27.878360999999998, -27.15416, -28.668615, -...   \n",
       "1  [-12.242375, -14.920304999999999, -14.920363, ...   \n",
       "2  [-24.603676, -24.603714, -24.871029, -23.15277...   \n",
       "3  [-22.454607, -23.082819, -23.998013, -23.99805...   \n",
       "4  [-26.006956, -23.164886, -23.164886, -26.89116...   \n",
       "\n",
       "                                              band_2        id inc_angle  \\\n",
       "0  [-27.154118, -29.537888, -31.0306, -32.190483,...  dfd5f913   43.9239   \n",
       "1  [-31.506321, -27.984554, -26.645678, -23.76760...  e25388fd   38.1562   \n",
       "2  [-24.870956, -24.092632, -20.653963, -19.41104...  58b2aaa0   45.2859   \n",
       "3  [-27.889421, -27.519794, -27.165262, -29.10350...  4cfc3a18   43.8306   \n",
       "4  [-27.206915, -30.259186, -30.259186, -23.16495...  271f93f4   35.6256   \n",
       "\n",
       "   is_iceberg  \n",
       "0           0  \n",
       "1           0  \n",
       "2           1  \n",
       "3           0  \n",
       "4           0  "
      ]
     },
     "execution_count": 3,
     "metadata": {},
     "output_type": "execute_result"
    }
   ],
   "source": [
    "train.head()"
   ]
  },
  {
   "cell_type": "code",
   "execution_count": 4,
   "metadata": {
    "collapsed": true
   },
   "outputs": [],
   "source": [
    "X_band_1=np.array([np.array(band).astype(np.float32).reshape(75, 75) for band in train[\"band_1\"]])\n",
    "X_band_2=np.array([np.array(band).astype(np.float32).reshape(75, 75) for band in train[\"band_2\"]])"
   ]
  },
  {
   "cell_type": "code",
   "execution_count": 5,
   "metadata": {},
   "outputs": [],
   "source": [
    "angle = train['is_iceberg'].astype(np.float32)\n"
   ]
  },
  {
   "cell_type": "code",
   "execution_count": 6,
   "metadata": {},
   "outputs": [],
   "source": [
    "X_train = np.concatenate([X_band_1[:, :, :, np.newaxis], X_band_2[:, :, :, np.newaxis],((X_band_1+X_band_2)/2)[:, :, :, np.newaxis]], axis=-1)"
   ]
  },
  {
   "cell_type": "code",
   "execution_count": 7,
   "metadata": {},
   "outputs": [
    {
     "data": {
      "text/plain": [
       "array([[-27.87836075, -27.15415955, -28.66861534, ..., -25.57348251,\n",
       "        -26.48867416, -30.50701332],\n",
       "       [-28.66852951, -27.8784008 , -27.50877571, ..., -26.4886322 ,\n",
       "        -28.67156219, -31.5941658 ],\n",
       "       [-28.66852951, -27.15415955, -25.86504173, ..., -27.1571064 ,\n",
       "        -27.88139343, -32.83712387],\n",
       "       ..., \n",
       "       [-29.09290504, -28.66916275, -30.50461197, ..., -30.0110054 ,\n",
       "        -25.8685379 , -26.48926544],\n",
       "       [-31.59168243, -27.87899208, -28.66920471, ..., -27.51227188,\n",
       "        -26.81707382, -27.51235771],\n",
       "       [-29.09290504, -26.81408119, -27.15479088, ..., -26.81703186,\n",
       "        -27.8819828 , -28.26812744]], dtype=float32)"
      ]
     },
     "execution_count": 7,
     "metadata": {},
     "output_type": "execute_result"
    }
   ],
   "source": [
    "X_band_1[0]"
   ]
  },
  {
   "cell_type": "code",
   "execution_count": 8,
   "metadata": {},
   "outputs": [
    {
     "data": {
      "text/plain": [
       "array([[-27.87836075, -27.15411758, -27.51623917],\n",
       "       [-27.15415955, -29.53788757, -28.34602356],\n",
       "       [-28.66861534, -31.03059959, -29.84960747],\n",
       "       [-29.5379715 , -32.19048309, -30.86422729],\n",
       "       [-29.09248543, -32.83421707, -30.9633522 ],\n",
       "       [-32.83425903, -31.03072929, -31.93249512],\n",
       "       [-32.19060898, -31.03076935, -31.61068916],\n",
       "       [-29.53813934, -32.83434296, -31.18624115],\n",
       "       [-28.66886902, -28.66886902, -28.66886902],\n",
       "       [-29.09269524, -27.15449524, -28.12359619],\n",
       "       [-26.81387138, -29.53826714, -28.17606926],\n",
       "       [-26.81391144, -30.50440025, -28.6591568 ],\n",
       "       [-28.26496887, -30.50444412, -29.3847065 ],\n",
       "       [-25.5710392 , -32.19090271, -28.88097   ],\n",
       "       [-26.17034721, -35.11350632, -30.64192581],\n",
       "       [-25.57112503, -34.28569412, -29.92840958],\n",
       "       [-28.26513672, -36.02873993, -32.14693832],\n",
       "       [-28.26518059, -31.03123474, -29.64820862],\n",
       "       [-26.17051315, -31.0312748 , -28.60089493],\n",
       "       [-28.6693306 , -29.09311676, -28.88122368],\n",
       "       [-24.23239899, -29.53868866, -26.88554382],\n",
       "       [-25.5713768 , -31.03140068, -28.30138779],\n",
       "       [-30.50486565, -28.2653904 , -29.38512802],\n",
       "       [-31.03148651, -27.50966072, -29.27057266],\n",
       "       [-29.53885651, -28.66954422, -29.10420036],\n",
       "       [-27.8794136 , -30.50499153, -29.19220352],\n",
       "       [-26.81454468, -31.0316124 , -28.92307854],\n",
       "       [-24.484478  , -29.09345436, -26.78896713],\n",
       "       [-25.57167244, -28.26564407, -26.91865921],\n",
       "       [-28.26568604, -29.09354019, -28.67961311],\n",
       "       [-29.53906822, -28.26568604, -28.90237808],\n",
       "       [-28.66979599, -29.09358025, -28.88168716],\n",
       "       [-27.50999832, -30.0087738 , -28.75938606],\n",
       "       [-31.03186607, -32.83539581, -31.9336319 ],\n",
       "       [-31.03190994, -31.59248352, -31.31219673],\n",
       "       [-31.03195   , -33.53072357, -32.28133774],\n",
       "       [-29.53931999, -34.28653717, -31.91292953],\n",
       "       [-29.53936005, -32.83556747, -31.18746376],\n",
       "       [-34.28662109, -32.19191742, -33.23926926],\n",
       "       [-28.67013168, -33.53089142, -31.10051155],\n",
       "       [-25.86660194, -30.5055809 , -28.18609238],\n",
       "       [-27.51037788, -32.1920433 , -29.85121155],\n",
       "       [-26.17148399, -32.19208527, -29.18178558],\n",
       "       [-26.4874115 , -31.59286308, -29.04013824],\n",
       "       [-30.00927925, -31.03232956, -30.52080536],\n",
       "       [-31.03237152, -31.03237152, -31.03237152],\n",
       "       [-26.48753929, -32.19225311, -29.33989716],\n",
       "       [-29.53978348, -28.26640129, -28.90309143],\n",
       "       [-31.03249741, -27.88034058, -29.45641899],\n",
       "       [-29.09433746, -30.00948906, -29.55191422],\n",
       "       [-28.67059517, -31.03258133, -29.8515892 ],\n",
       "       [-26.81555748, -32.19246292, -29.50400925],\n",
       "       [-25.28783035, -30.00961494, -27.6487236 ],\n",
       "       [-25.57268333, -29.09450722, -27.33359528],\n",
       "       [-31.03275108, -26.81568336, -28.92421722],\n",
       "       [-36.0303421 , -29.09459114, -32.56246567],\n",
       "       [-33.53160858, -31.59340858, -32.56250763],\n",
       "       [-31.59345245, -28.67089081, -30.13217163],\n",
       "       [-29.09471703, -26.81585121, -27.95528412],\n",
       "       [-27.88080406, -29.09476089, -28.48778152],\n",
       "       [-26.81593323, -32.83653641, -29.82623482],\n",
       "       [-27.15664291, -35.11544418, -31.13604355],\n",
       "       [-27.88093185, -30.50650787, -29.19371986],\n",
       "       [-31.59370422, -30.50655174, -31.05012894],\n",
       "       [-31.59374428, -31.59374428, -31.59374428],\n",
       "       [-30.01016426, -31.03321266, -30.52168846],\n",
       "       [-31.03325653, -31.59383011, -31.31354332],\n",
       "       [-28.26724243, -31.03329659, -29.65026855],\n",
       "       [-25.01273918, -32.8368721 , -28.92480469],\n",
       "       [-25.28854752, -33.5321579 , -29.41035271],\n",
       "       [-27.15702248, -29.5407505 , -28.34888649],\n",
       "       [-26.48859024, -28.67147827, -27.58003426],\n",
       "       [-25.57348251, -29.0953083 , -27.33439636],\n",
       "       [-26.48867416, -29.5408783 , -28.01477623],\n",
       "       [-30.50701332, -27.51176643, -29.00938988]], dtype=float32)"
      ]
     },
     "execution_count": 8,
     "metadata": {},
     "output_type": "execute_result"
    }
   ],
   "source": [
    "X_train[0][0]"
   ]
  },
  {
   "cell_type": "code",
   "execution_count": 9,
   "metadata": {},
   "outputs": [
    {
     "data": {
      "text/plain": [
       "<matplotlib.image.AxesImage at 0x16fcf4c18>"
      ]
     },
     "execution_count": 9,
     "metadata": {},
     "output_type": "execute_result"
    },
    {
     "data": {
      "image/png": "[encoded data removed]",
      "text/plain": [
       "<matplotlib.figure.Figure at 0x162f1ea20>"
      ]
     },
     "metadata": {},
     "output_type": "display_data"
    }
   ],
   "source": [
    "plt.imshow(X_band_1[0])"
   ]
  },
  {
   "cell_type": "code",
   "execution_count": 10,
   "metadata": {},
   "outputs": [
    {
     "data": {
      "text/plain": [
       "<matplotlib.image.AxesImage at 0x1565cc128>"
      ]
     },
     "execution_count": 10,
     "metadata": {},
     "output_type": "execute_result"
    },
    {
     "data": {
      "image/png": "[encoded data removed]",
      "text/plain": [
       "<matplotlib.figure.Figure at 0x16b8a0c18>"
      ]
     },
     "metadata": {},
     "output_type": "display_data"
    }
   ],
   "source": [
    "plt.imshow(X_train[0])"
   ]
  },
  {
   "cell_type": "code",
   "execution_count": null,
   "metadata": {
    "collapsed": true
   },
   "outputs": [],
   "source": []
  },
  {
   "cell_type": "code",
   "execution_count": 11,
   "metadata": {},
   "outputs": [
    {
     "name": "stderr",
     "output_type": "stream",
     "text": [
      "Using TensorFlow backend.\n",
      "/Users/yaqiongzhang/anaconda/lib/python3.6/importlib/_bootstrap.py:205: RuntimeWarning: compiletime version 3.5 of module 'tensorflow.python.framework.fast_tensor_util' does not match runtime version 3.6\n",
      "  return f(*args, **kwds)\n"
     ]
    }
   ],
   "source": [
    "#Import Keras.\n",
    "from matplotlib import pyplot\n",
    "from keras.preprocessing.image import ImageDataGenerator\n",
    "from keras.models import Sequential\n",
    "from keras.layers import Conv2D, MaxPooling2D, Dense, Dropout, Input, Flatten, Activation\n",
    "from keras.layers import GlobalMaxPooling2D\n",
    "from keras.layers.normalization import BatchNormalization\n",
    "from keras.layers.merge import Concatenate\n",
    "from keras.models import Model\n",
    "from keras import initializers\n",
    "from keras.optimizers import Adam\n",
    "from keras.callbacks import ModelCheckpoint, Callback, EarlyStopping"
   ]
  },
  {
   "cell_type": "code",
   "execution_count": 12,
   "metadata": {
    "collapsed": true
   },
   "outputs": [],
   "source": [
    "#define our model\n",
    "def getModel():\n",
    "    #Building the model\n",
    "    gmodel=Sequential()\n",
    "    #Conv Layer 1\n",
    "    gmodel.add(Conv2D(64, kernel_size=(2, 2),activation='relu', input_shape=(75, 75, 3)))\n",
    "    gmodel.add(Conv2D(64, kernel_size=(3, 3),activation='relu'))\n",
    "    gmodel.add(MaxPooling2D(pool_size=(3, 3), strides=(2, 2)))\n",
    "    gmodel.add(Dropout(0.2))\n",
    "\n",
    "    #Conv Layer 2\n",
    "    gmodel.add(Conv2D(128, kernel_size=(2, 2), activation='relu' ))\n",
    "    gmodel.add(Conv2D(64, kernel_size=(3, 3),activation='relu'))\n",
    "    gmodel.add(MaxPooling2D(pool_size=(2, 2), strides=(2, 2)))\n",
    "    gmodel.add(Dropout(0.2))\n",
    "\n",
    "    #Conv Layer 3\n",
    "    gmodel.add(Conv2D(128, kernel_size=(2, 2), activation='relu'))\n",
    "    gmodel.add(MaxPooling2D(pool_size=(2, 2), strides=(2, 2)))\n",
    "    gmodel.add(Dropout(0.2))\n",
    "\n",
    "    #Conv Layer 4\n",
    "    gmodel.add(Conv2D(64, kernel_size=(2, 2), activation='relu'))\n",
    "    gmodel.add(MaxPooling2D(pool_size=(2, 2), strides=(2, 2)))\n",
    "    gmodel.add(Dropout(0.2))\n",
    "\n",
    "    #Flatten the data for upcoming dense layers\n",
    "    gmodel.add(Flatten())\n",
    "\n",
    "    #Dense Layers\n",
    "    gmodel.add(Dense(512))\n",
    "    gmodel.add(Activation('relu'))\n",
    "    gmodel.add(Dropout(0.2))\n",
    "\n",
    "    #Dense Layer 2\n",
    "    gmodel.add(Dense(256))\n",
    "    gmodel.add(Activation('relu'))\n",
    "    gmodel.add(Dropout(0.2))\n",
    "\n",
    "    #Sigmoid Layer\n",
    "    gmodel.add(Dense(1))\n",
    "    gmodel.add(Activation('sigmoid'))\n",
    "\n",
    "    mypotim=Adam(lr=0.001, beta_1=0.9, beta_2=0.999, epsilon=1e-08, decay=0.0)\n",
    "    gmodel.compile(loss='binary_crossentropy',\n",
    "                  optimizer=mypotim,\n",
    "                  metrics=['accuracy'])\n",
    "    gmodel.summary()\n",
    "    return gmodel\n",
    "\n",
    "\n",
    "def get_callbacks(filepath, patience=2):\n",
    "    es = EarlyStopping('val_loss', patience=patience, mode=\"min\")\n",
    "    msave = ModelCheckpoint(filepath, save_best_only=True)\n",
    "    return [es, msave]\n",
    "file_path = \".model_weights.hdf5\"\n",
    "callbacks = get_callbacks(filepath=file_path, patience=5)"
   ]
  },
  {
   "cell_type": "code",
   "execution_count": 13,
   "metadata": {
    "collapsed": true
   },
   "outputs": [],
   "source": [
    "target_train=train['is_iceberg']\n",
    "X_train_cv, X_valid, y_train_cv, y_valid = train_test_split(X_train, target_train, random_state=1, train_size=0.75)"
   ]
  },
  {
   "cell_type": "code",
   "execution_count": 18,
   "metadata": {},
   "outputs": [
    {
     "name": "stdout",
     "output_type": "stream",
     "text": [
      "_________________________________________________________________\n",
      "Layer (type)                 Output Shape              Param #   \n",
      "=================================================================\n",
      "conv2d_7 (Conv2D)            (None, 73, 73, 64)        1792      \n",
      "_________________________________________________________________\n",
      "conv2d_8 (Conv2D)            (None, 71, 71, 64)        36928     \n",
      "_________________________________________________________________\n",
      "max_pooling2d_5 (MaxPooling2 (None, 35, 35, 64)        0         \n",
      "_________________________________________________________________\n",
      "dropout_7 (Dropout)          (None, 35, 35, 64)        0         \n",
      "_________________________________________________________________\n",
      "conv2d_9 (Conv2D)            (None, 33, 33, 128)       73856     \n",
      "_________________________________________________________________\n",
      "conv2d_10 (Conv2D)           (None, 31, 31, 64)        73792     \n",
      "_________________________________________________________________\n",
      "max_pooling2d_6 (MaxPooling2 (None, 15, 15, 64)        0         \n",
      "_________________________________________________________________\n",
      "dropout_8 (Dropout)          (None, 15, 15, 64)        0         \n",
      "_________________________________________________________________\n",
      "conv2d_11 (Conv2D)           (None, 13, 13, 128)       73856     \n",
      "_________________________________________________________________\n",
      "max_pooling2d_7 (MaxPooling2 (None, 6, 6, 128)         0         \n",
      "_________________________________________________________________\n",
      "dropout_9 (Dropout)          (None, 6, 6, 128)         0         \n",
      "_________________________________________________________________\n",
      "conv2d_12 (Conv2D)           (None, 4, 4, 64)          73792     \n",
      "_________________________________________________________________\n",
      "max_pooling2d_8 (MaxPooling2 (None, 2, 2, 64)          0         \n",
      "_________________________________________________________________\n",
      "dropout_10 (Dropout)         (None, 2, 2, 64)          0         \n",
      "_________________________________________________________________\n",
      "flatten_2 (Flatten)          (None, 256)               0         \n",
      "_________________________________________________________________\n",
      "dense_4 (Dense)              (None, 512)               131584    \n",
      "_________________________________________________________________\n",
      "activation_4 (Activation)    (None, 512)               0         \n",
      "_________________________________________________________________\n",
      "dropout_11 (Dropout)         (None, 512)               0         \n",
      "_________________________________________________________________\n",
      "dense_5 (Dense)              (None, 256)               131328    \n",
      "_________________________________________________________________\n",
      "activation_5 (Activation)    (None, 256)               0         \n",
      "_________________________________________________________________\n",
      "dropout_12 (Dropout)         (None, 256)               0         \n",
      "_________________________________________________________________\n",
      "dense_6 (Dense)              (None, 1)                 257       \n",
      "_________________________________________________________________\n",
      "activation_6 (Activation)    (None, 1)                 0         \n",
      "=================================================================\n",
      "Total params: 597,185\n",
      "Trainable params: 597,185\n",
      "Non-trainable params: 0\n",
      "_________________________________________________________________\n",
      "Train on 1203 samples, validate on 401 samples\n",
      "Epoch 1/50\n",
      "1203/1203 [==============================] - 81s 67ms/step - loss: 0.7469 - acc: 0.5137 - val_loss: 0.5791 - val_acc: 0.5312\n",
      "Epoch 2/50\n",
      "1203/1203 [==============================] - 77s 64ms/step - loss: 0.5606 - acc: 0.6592 - val_loss: 0.5412 - val_acc: 0.6359\n",
      "Epoch 3/50\n",
      "1203/1203 [==============================] - 77s 64ms/step - loss: 0.4858 - acc: 0.7631 - val_loss: 0.4484 - val_acc: 0.8254\n",
      "Epoch 4/50\n",
      "1203/1203 [==============================] - 79s 66ms/step - loss: 0.4515 - acc: 0.7764 - val_loss: 0.4486 - val_acc: 0.7930\n",
      "Epoch 5/50\n",
      "1203/1203 [==============================] - 77s 64ms/step - loss: 0.4599 - acc: 0.7623 - val_loss: 0.4531 - val_acc: 0.7805\n",
      "Epoch 6/50\n",
      "1203/1203 [==============================] - 76s 64ms/step - loss: 0.4606 - acc: 0.7706 - val_loss: 0.4682 - val_acc: 0.7830\n",
      "Epoch 7/50\n",
      "1203/1203 [==============================] - 76s 63ms/step - loss: 0.4515 - acc: 0.7864 - val_loss: 0.4207 - val_acc: 0.8030\n",
      "Epoch 8/50\n",
      "1203/1203 [==============================] - 76s 63ms/step - loss: 0.4064 - acc: 0.8138 - val_loss: 0.4490 - val_acc: 0.7880\n",
      "Epoch 9/50\n",
      "1203/1203 [==============================] - 76s 63ms/step - loss: 0.4203 - acc: 0.8096 - val_loss: 0.4052 - val_acc: 0.8180\n",
      "Epoch 10/50\n",
      "1203/1203 [==============================] - 77s 64ms/step - loss: 0.4330 - acc: 0.7988 - val_loss: 0.4626 - val_acc: 0.7781\n",
      "Epoch 11/50\n",
      "1203/1203 [==============================] - 77s 64ms/step - loss: 0.4281 - acc: 0.7922 - val_loss: 0.4049 - val_acc: 0.8379\n",
      "Epoch 12/50\n",
      "1203/1203 [==============================] - 78s 65ms/step - loss: 0.4204 - acc: 0.8080 - val_loss: 0.4029 - val_acc: 0.8279\n",
      "Epoch 13/50\n",
      "1203/1203 [==============================] - 77s 64ms/step - loss: 0.3852 - acc: 0.8362 - val_loss: 0.4030 - val_acc: 0.8105\n",
      "Epoch 14/50\n",
      "1203/1203 [==============================] - 77s 64ms/step - loss: 0.3713 - acc: 0.8437 - val_loss: 0.4170 - val_acc: 0.8155\n",
      "Epoch 15/50\n",
      "1203/1203 [==============================] - 76s 63ms/step - loss: 0.3794 - acc: 0.8379 - val_loss: 0.3989 - val_acc: 0.8204\n",
      "Epoch 16/50\n",
      "1203/1203 [==============================] - 76s 64ms/step - loss: 0.4010 - acc: 0.8213 - val_loss: 0.3795 - val_acc: 0.8554\n",
      "Epoch 17/50\n",
      "1203/1203 [==============================] - 77s 64ms/step - loss: 0.3603 - acc: 0.8404 - val_loss: 0.3851 - val_acc: 0.8329\n",
      "Epoch 18/50\n",
      "1203/1203 [==============================] - 78s 64ms/step - loss: 0.3749 - acc: 0.8412 - val_loss: 0.4007 - val_acc: 0.8354\n",
      "Epoch 19/50\n",
      "1203/1203 [==============================] - 77s 64ms/step - loss: 0.3718 - acc: 0.8387 - val_loss: 0.4675 - val_acc: 0.8204\n",
      "Epoch 20/50\n",
      "1203/1203 [==============================] - 77s 64ms/step - loss: 0.3999 - acc: 0.8155 - val_loss: 0.3839 - val_acc: 0.8404\n",
      "Epoch 21/50\n",
      "1203/1203 [==============================] - 78s 65ms/step - loss: 0.3502 - acc: 0.8570 - val_loss: 0.3489 - val_acc: 0.8529\n",
      "Epoch 22/50\n",
      "1203/1203 [==============================] - 78s 65ms/step - loss: 0.3659 - acc: 0.8412 - val_loss: 0.3386 - val_acc: 0.8529\n",
      "Epoch 23/50\n",
      "1203/1203 [==============================] - 78s 65ms/step - loss: 0.3355 - acc: 0.8620 - val_loss: 0.4005 - val_acc: 0.8404\n",
      "Epoch 24/50\n",
      "1203/1203 [==============================] - 78s 65ms/step - loss: 0.3441 - acc: 0.8529 - val_loss: 0.3710 - val_acc: 0.8404\n",
      "Epoch 25/50\n",
      "1203/1203 [==============================] - 79s 66ms/step - loss: 0.3579 - acc: 0.8279 - val_loss: 0.3921 - val_acc: 0.8454\n",
      "Epoch 26/50\n",
      "1203/1203 [==============================] - 79s 66ms/step - loss: 0.3549 - acc: 0.8429 - val_loss: 0.4570 - val_acc: 0.8155\n",
      "Epoch 27/50\n",
      "1203/1203 [==============================] - 79s 66ms/step - loss: 0.3358 - acc: 0.8529 - val_loss: 0.3494 - val_acc: 0.8753\n"
     ]
    },
    {
     "data": {
      "text/plain": [
       "<keras.callbacks.History at 0x180d75be0>"
      ]
     },
     "execution_count": 18,
     "metadata": {},
     "output_type": "execute_result"
    }
   ],
   "source": [
    "#Without denoising, core features.\n",
    "import os\n",
    "gmodel=getModel()\n",
    "gmodel.fit(X_train_cv, y_train_cv,\n",
    "          batch_size=24,\n",
    "          epochs=50,\n",
    "          verbose=1,\n",
    "          validation_data=(X_valid, y_valid),\n",
    "          callbacks=callbacks)\n"
   ]
  },
  {
   "cell_type": "code",
   "execution_count": 15,
   "metadata": {},
   "outputs": [
    {
     "data": {
      "text/plain": [
       "753"
      ]
     },
     "execution_count": 15,
     "metadata": {},
     "output_type": "execute_result"
    }
   ],
   "source": [
    "sum(train['is_iceberg'])\n"
   ]
  },
  {
   "cell_type": "code",
   "execution_count": 16,
   "metadata": {},
   "outputs": [
    {
     "data": {
      "text/plain": [
       "1604"
      ]
     },
     "execution_count": 16,
     "metadata": {},
     "output_type": "execute_result"
    }
   ],
   "source": [
    "len(train['is_iceberg'])"
   ]
  },
  {
   "cell_type": "code",
   "execution_count": 17,
   "metadata": {},
   "outputs": [
    {
     "name": "stdout",
     "output_type": "stream",
     "text": [
      "Help on function train_test_split in module sklearn.model_selection._split:\n",
      "\n",
      "train_test_split(*arrays, **options)\n",
      "    Split arrays or matrices into random train and test subsets\n",
      "    \n",
      "    Quick utility that wraps input validation and\n",
      "    ``next(ShuffleSplit().split(X, y))`` and application to input data\n",
      "    into a single call for splitting (and optionally subsampling) data in a\n",
      "    oneliner.\n",
      "    \n",
      "    Read more in the :ref:`User Guide <cross_validation>`.\n",
      "    \n",
      "    Parameters\n",
      "    ----------\n",
      "    *arrays : sequence of indexables with same length / shape[0]\n",
      "        Allowed inputs are lists, numpy arrays, scipy-sparse\n",
      "        matrices or pandas dataframes.\n",
      "    \n",
      "    test_size : float, int, or None (default is None)\n",
      "        If float, should be between 0.0 and 1.0 and represent the\n",
      "        proportion of the dataset to include in the test split. If\n",
      "        int, represents the absolute number of test samples. If None,\n",
      "        the value is automatically set to the complement of the train size.\n",
      "        If train size is also None, test size is set to 0.25.\n",
      "    \n",
      "    train_size : float, int, or None (default is None)\n",
      "        If float, should be between 0.0 and 1.0 and represent the\n",
      "        proportion of the dataset to include in the train split. If\n",
      "        int, represents the absolute number of train samples. If None,\n",
      "        the value is automatically set to the complement of the test size.\n",
      "    \n",
      "    random_state : int or RandomState\n",
      "        Pseudo-random number generator state used for random sampling.\n",
      "    \n",
      "    stratify : array-like or None (default is None)\n",
      "        If not None, data is split in a stratified fashion, using this as\n",
      "        the class labels.\n",
      "    \n",
      "    Returns\n",
      "    -------\n",
      "    splitting : list, length=2 * len(arrays)\n",
      "        List containing train-test split of inputs.\n",
      "    \n",
      "        .. versionadded:: 0.16\n",
      "            If the input is sparse, the output will be a\n",
      "            ``scipy.sparse.csr_matrix``. Else, output type is the same as the\n",
      "            input type.\n",
      "    \n",
      "    Examples\n",
      "    --------\n",
      "    >>> import numpy as np\n",
      "    >>> from sklearn.model_selection import train_test_split\n",
      "    >>> X, y = np.arange(10).reshape((5, 2)), range(5)\n",
      "    >>> X\n",
      "    array([[0, 1],\n",
      "           [2, 3],\n",
      "           [4, 5],\n",
      "           [6, 7],\n",
      "           [8, 9]])\n",
      "    >>> list(y)\n",
      "    [0, 1, 2, 3, 4]\n",
      "    \n",
      "    >>> X_train, X_test, y_train, y_test = train_test_split(\n",
      "    ...     X, y, test_size=0.33, random_state=42)\n",
      "    ...\n",
      "    >>> X_train\n",
      "    array([[4, 5],\n",
      "           [0, 1],\n",
      "           [6, 7]])\n",
      "    >>> y_train\n",
      "    [2, 0, 3]\n",
      "    >>> X_test\n",
      "    array([[2, 3],\n",
      "           [8, 9]])\n",
      "    >>> y_test\n",
      "    [1, 4]\n",
      "\n"
     ]
    }
   ],
   "source": [
    "help (train_test_split)\n",
    "\n"
   ]
  },
  {
   "cell_type": "code",
   "execution_count": null,
   "metadata": {
    "collapsed": true
   },
   "outputs": [],
   "source": []
  }
 ],
 "metadata": {
  "kernelspec": {
   "display_name": "Python 3",
   "language": "python",
   "name": "python3"
  },
  "language_info": {
   "codemirror_mode": {
    "name": "ipython",
    "version": 3
   },
   "file_extension": ".py",
   "mimetype": "text/x-python",
   "name": "python",
   "nbconvert_exporter": "python",
   "pygments_lexer": "ipython3",
   "version": "3.6.1"
  }
 },
 "nbformat": 4,
 "nbformat_minor": 2
}
