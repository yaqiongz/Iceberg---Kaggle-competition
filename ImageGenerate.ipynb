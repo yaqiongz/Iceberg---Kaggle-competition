{
 "cells": [
  {
   "cell_type": "code",
   "execution_count": 1,
   "metadata": {},
   "outputs": [
    {
     "name": "stderr",
     "output_type": "stream",
     "text": [
      "Using TensorFlow backend.\n",
      "/Users/yaqiongzhang/anaconda/lib/python3.6/importlib/_bootstrap.py:205: RuntimeWarning: compiletime version 3.5 of module 'tensorflow.python.framework.fast_tensor_util' does not match runtime version 3.6\n",
      "  return f(*args, **kwds)\n"
     ]
    }
   ],
   "source": [
    "from keras.preprocessing.image import ImageDataGenerator\n",
    "import numpy as np\n",
    "from sklearn.model_selection import train_test_split"
   ]
  },
  {
   "cell_type": "code",
   "execution_count": 2,
   "metadata": {
    "collapsed": true
   },
   "outputs": [],
   "source": [
    "#Import Keras.\n",
    "from matplotlib import pyplot\n",
    "from keras.preprocessing.image import ImageDataGenerator\n",
    "from keras.models import Sequential\n",
    "from keras.layers import Conv2D, MaxPooling2D, Dense, Dropout, Input, Flatten, Activation, BatchNormalization\n",
    "from keras.layers import GlobalMaxPooling2D\n",
    "from keras.layers.normalization import BatchNormalization\n",
    "from keras.layers.merge import Concatenate\n",
    "from keras.models import Model\n",
    "from keras import initializers\n",
    "from keras.optimizers import Adam\n",
    "from keras.callbacks import ModelCheckpoint, Callback, EarlyStopping\n",
    "#define our model\n",
    "def getModel():\n",
    "    #Building the model\n",
    "    gmodel=Sequential()\n",
    "    #Conv Layer 1\n",
    "    gmodel.add(Conv2D(64, kernel_size=(3, 3),activation='relu', input_shape=(75, 75, 3)))\n",
    "    gmodel.add(BatchNormalization())\n",
    "    gmodel.add(Conv2D(64, kernel_size=(3, 3),activation='relu'))\n",
    "    gmodel.add(BatchNormalization())\n",
    "    gmodel.add(MaxPooling2D(pool_size=(2, 2), strides=(2, 2)))\n",
    "    gmodel.add(Dropout(0.2))\n",
    "\n",
    "    gmodel.add(Conv2D(64, kernel_size=(3, 3),activation='relu'))\n",
    "    gmodel.add(BatchNormalization())\n",
    "    gmodel.add(Conv2D(64, kernel_size=(3, 3),activation='relu'))\n",
    "    gmodel.add(BatchNormalization())\n",
    "    gmodel.add(MaxPooling2D(pool_size=(2, 2), strides=(2, 2)))\n",
    "    gmodel.add(Dropout(0.2))\n",
    "    \n",
    "    #Flatten the data for upcoming dense layers\n",
    "    gmodel.add(Flatten())\n",
    "\n",
    "    #Dense Layers\n",
    "    gmodel.add(Dense(512))\n",
    "    gmodel.add(Activation('relu'))\n",
    "    gmodel.add(Dropout(0.2))\n",
    "\n",
    "    #Dense Layer 2\n",
    "    gmodel.add(Dense(256))\n",
    "    gmodel.add(Activation('relu'))\n",
    "    gmodel.add(Dropout(0.2))\n",
    "\n",
    "    #Sigmoid Layer\n",
    "    gmodel.add(Dense(1))\n",
    "    gmodel.add(Activation('sigmoid'))\n",
    "\n",
    "    mypotim=Adam(lr=0.001, beta_1=0.9, beta_2=0.999, epsilon=1e-08, decay=0.0)\n",
    "    gmodel.compile(loss='binary_crossentropy',\n",
    "                  optimizer='Adam',\n",
    "                  metrics=['accuracy'])\n",
    "    gmodel.summary()\n",
    "    return gmodel\n",
    "\n",
    "\n",
    "def get_callbacks(filepath, patience):\n",
    "    es = EarlyStopping('val_loss', patience=patience, mode=\"min\")\n",
    "    msave = ModelCheckpoint(filepath, save_best_only=True)\n",
    "    return [es, msave]\n",
    "\n",
    "file_path = \"model_weights.hdf5\"\n",
    "callbacks = get_callbacks(filepath=file_path, patience=10)"
   ]
  },
  {
   "cell_type": "code",
   "execution_count": 3,
   "metadata": {
    "collapsed": true
   },
   "outputs": [],
   "source": [
    "datagen = ImageDataGenerator(\n",
    "    rotation_range=90,\n",
    "    horizontal_flip=True)"
   ]
  },
  {
   "cell_type": "code",
   "execution_count": 4,
   "metadata": {},
   "outputs": [],
   "source": [
    "X_train=np.load('X_train.npy')\n",
    "target_train=np.load('target_train.npy')\n",
    "X_train_cv, X_valid, y_train_cv, y_valid = train_test_split(X_train, target_train[:1604], train_size=0.9)"
   ]
  },
  {
   "cell_type": "code",
   "execution_count": 5,
   "metadata": {
    "scrolled": false
   },
   "outputs": [
    {
     "name": "stdout",
     "output_type": "stream",
     "text": [
      "_________________________________________________________________\n",
      "Layer (type)                 Output Shape              Param #   \n",
      "=================================================================\n",
      "conv2d_1 (Conv2D)            (None, 73, 73, 64)        1792      \n",
      "_________________________________________________________________\n",
      "batch_normalization_1 (Batch (None, 73, 73, 64)        256       \n",
      "_________________________________________________________________\n",
      "conv2d_2 (Conv2D)            (None, 71, 71, 64)        36928     \n",
      "_________________________________________________________________\n",
      "batch_normalization_2 (Batch (None, 71, 71, 64)        256       \n",
      "_________________________________________________________________\n",
      "max_pooling2d_1 (MaxPooling2 (None, 35, 35, 64)        0         \n",
      "_________________________________________________________________\n",
      "dropout_1 (Dropout)          (None, 35, 35, 64)        0         \n",
      "_________________________________________________________________\n",
      "conv2d_3 (Conv2D)            (None, 33, 33, 64)        36928     \n",
      "_________________________________________________________________\n",
      "batch_normalization_3 (Batch (None, 33, 33, 64)        256       \n",
      "_________________________________________________________________\n",
      "conv2d_4 (Conv2D)            (None, 31, 31, 64)        36928     \n",
      "_________________________________________________________________\n",
      "batch_normalization_4 (Batch (None, 31, 31, 64)        256       \n",
      "_________________________________________________________________\n",
      "max_pooling2d_2 (MaxPooling2 (None, 15, 15, 64)        0         \n",
      "_________________________________________________________________\n",
      "dropout_2 (Dropout)          (None, 15, 15, 64)        0         \n",
      "_________________________________________________________________\n",
      "flatten_1 (Flatten)          (None, 14400)             0         \n",
      "_________________________________________________________________\n",
      "dense_1 (Dense)              (None, 512)               7373312   \n",
      "_________________________________________________________________\n",
      "activation_1 (Activation)    (None, 512)               0         \n",
      "_________________________________________________________________\n",
      "dropout_3 (Dropout)          (None, 512)               0         \n",
      "_________________________________________________________________\n",
      "dense_2 (Dense)              (None, 256)               131328    \n",
      "_________________________________________________________________\n",
      "activation_2 (Activation)    (None, 256)               0         \n",
      "_________________________________________________________________\n",
      "dropout_4 (Dropout)          (None, 256)               0         \n",
      "_________________________________________________________________\n",
      "dense_3 (Dense)              (None, 1)                 257       \n",
      "_________________________________________________________________\n",
      "activation_3 (Activation)    (None, 1)                 0         \n",
      "=================================================================\n",
      "Total params: 7,618,497\n",
      "Trainable params: 7,617,985\n",
      "Non-trainable params: 512\n",
      "_________________________________________________________________\n",
      "Epoch 1/100\n",
      "61/60 [==============================] - 124s 2s/step - loss: 1.2933 - acc: 0.6217 - val_loss: 7.1080 - val_acc: 0.5590\n",
      "Epoch 2/100\n",
      "61/60 [==============================] - 125s 2s/step - loss: 0.5940 - acc: 0.7241 - val_loss: 0.6013 - val_acc: 0.6211\n",
      "Epoch 3/100\n",
      "61/60 [==============================] - 123s 2s/step - loss: 0.5967 - acc: 0.7207 - val_loss: 0.8064 - val_acc: 0.6460\n",
      "Epoch 4/100\n",
      "61/60 [==============================] - 122s 2s/step - loss: 0.7702 - acc: 0.7139 - val_loss: 3.2023 - val_acc: 0.4969\n",
      "Epoch 5/100\n",
      "61/60 [==============================] - 123s 2s/step - loss: 0.5152 - acc: 0.7541 - val_loss: 0.4762 - val_acc: 0.8137\n",
      "Epoch 6/100\n",
      "61/60 [==============================] - 122s 2s/step - loss: 0.4134 - acc: 0.8148 - val_loss: 0.4458 - val_acc: 0.8323\n",
      "Epoch 7/100\n",
      "61/60 [==============================] - 125s 2s/step - loss: 0.6031 - acc: 0.7925 - val_loss: 0.5292 - val_acc: 0.8261\n",
      "Epoch 8/100\n",
      "61/60 [==============================] - 818s 13s/step - loss: 0.4697 - acc: 0.7780 - val_loss: 0.4441 - val_acc: 0.8447\n",
      "Epoch 9/100\n",
      "61/60 [==============================] - 122s 2s/step - loss: 0.4032 - acc: 0.8230 - val_loss: 0.6621 - val_acc: 0.7205\n",
      "Epoch 10/100\n",
      "61/60 [==============================] - 119s 2s/step - loss: 0.4121 - acc: 0.8320 - val_loss: 0.3635 - val_acc: 0.8634\n",
      "Epoch 11/100\n",
      "61/60 [==============================] - 127s 2s/step - loss: 0.5118 - acc: 0.8190 - val_loss: 0.4584 - val_acc: 0.7516\n",
      "Epoch 12/100\n",
      "61/60 [==============================] - 141s 2s/step - loss: 0.4830 - acc: 0.8026 - val_loss: 0.5910 - val_acc: 0.6398\n",
      "Epoch 13/100\n",
      "61/60 [==============================] - 144s 2s/step - loss: 0.3870 - acc: 0.8271 - val_loss: 0.5687 - val_acc: 0.7578\n",
      "Epoch 14/100\n",
      "61/60 [==============================] - 136s 2s/step - loss: 0.4446 - acc: 0.8368 - val_loss: 0.3846 - val_acc: 0.8571\n",
      "Epoch 15/100\n",
      "61/60 [==============================] - 129s 2s/step - loss: 0.4002 - acc: 0.8251 - val_loss: 0.3971 - val_acc: 0.8261\n",
      "Epoch 16/100\n",
      "61/60 [==============================] - 130s 2s/step - loss: 0.3748 - acc: 0.8415 - val_loss: 0.4295 - val_acc: 0.8261\n",
      "Epoch 17/100\n",
      "61/60 [==============================] - 127s 2s/step - loss: 0.3629 - acc: 0.8545 - val_loss: 0.3860 - val_acc: 0.8199\n",
      "Epoch 18/100\n",
      "61/60 [==============================] - 127s 2s/step - loss: 0.4964 - acc: 0.8308 - val_loss: 0.4517 - val_acc: 0.7764\n",
      "Epoch 19/100\n",
      "61/60 [==============================] - 126s 2s/step - loss: 0.4006 - acc: 0.8183 - val_loss: 0.4450 - val_acc: 0.8634\n",
      "Epoch 20/100\n",
      "61/60 [==============================] - 128s 2s/step - loss: 0.3410 - acc: 0.8517 - val_loss: 0.4104 - val_acc: 0.8509\n"
     ]
    },
    {
     "data": {
      "text/plain": [
       "<keras.callbacks.History at 0x127373b00>"
      ]
     },
     "execution_count": 5,
     "metadata": {},
     "output_type": "execute_result"
    }
   ],
   "source": [
    "import os\n",
    "gmodel=getModel()\n",
    "gmodel.fit_generator(datagen.flow(X_train_cv, y_train_cv, batch_size=24),\n",
    "                    steps_per_epoch=len(X_train_cv) / 24, \n",
    "                    epochs=100,\n",
    "                    validation_data=(X_valid, y_valid),\n",
    "                    validation_steps=len(X_valid) / 24,\n",
    "                    callbacks=callbacks)"
   ]
  },
  {
   "cell_type": "code",
   "execution_count": null,
   "metadata": {
    "collapsed": true
   },
   "outputs": [],
   "source": []
  },
  {
   "cell_type": "code",
   "execution_count": null,
   "metadata": {
    "collapsed": true
   },
   "outputs": [],
   "source": []
  },
  {
   "cell_type": "raw",
   "metadata": {},
   "source": []
  },
  {
   "cell_type": "raw",
   "metadata": {},
   "source": []
  }
 ],
 "metadata": {
  "kernelspec": {
   "display_name": "Python 3",
   "language": "python",
   "name": "python3"
  },
  "language_info": {
   "codemirror_mode": {
    "name": "ipython",
    "version": 3
   },
   "file_extension": ".py",
   "mimetype": "text/x-python",
   "name": "python",
   "nbconvert_exporter": "python",
   "pygments_lexer": "ipython3",
   "version": "3.6.1"
  }
 },
 "nbformat": 4,
 "nbformat_minor": 2
}
