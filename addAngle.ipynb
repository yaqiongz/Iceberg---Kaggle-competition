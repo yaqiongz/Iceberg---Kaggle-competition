{
 "cells": [
  {
   "cell_type": "code",
   "execution_count": 1,
   "metadata": {
    "collapsed": true
   },
   "outputs": [],
   "source": [
    "import numpy as np\n",
    "from sklearn.model_selection import train_test_split\n"
   ]
  },
  {
   "cell_type": "code",
   "execution_count": 2,
   "metadata": {
    "collapsed": true
   },
   "outputs": [],
   "source": [
    "train = np.load('train.npy')\n",
    "test = np.load('test.npy')"
   ]
  },
  {
   "cell_type": "code",
   "execution_count": 3,
   "metadata": {
    "scrolled": true
   },
   "outputs": [],
   "source": [
    "X_band_1=np.array([np.array(band).astype(np.float32).reshape(75, 75) for band in train[:,0]])\n",
    "X_band_2=np.array([np.array(band).astype(np.float32).reshape(75, 75) for band in train[:,1]])\n",
    "angle=train[:,3]\n",
    "target_train = train[:,4]"
   ]
  },
  {
   "cell_type": "code",
   "execution_count": 4,
   "metadata": {},
   "outputs": [
    {
     "data": {
      "text/plain": [
       "1604"
      ]
     },
     "execution_count": 4,
     "metadata": {},
     "output_type": "execute_result"
    }
   ],
   "source": [
    "np.count_nonzero(angle)"
   ]
  },
  {
   "cell_type": "code",
   "execution_count": 5,
   "metadata": {},
   "outputs": [],
   "source": [
    "angle[angle=='na']=0"
   ]
  },
  {
   "cell_type": "code",
   "execution_count": 6,
   "metadata": {},
   "outputs": [
    {
     "data": {
      "text/plain": [
       "array([43.9239, 38.1562, 45.2859, ..., 0, 0, 0], dtype=object)"
      ]
     },
     "execution_count": 6,
     "metadata": {},
     "output_type": "execute_result"
    }
   ],
   "source": [
    "angle"
   ]
  },
  {
   "cell_type": "code",
   "execution_count": 7,
   "metadata": {},
   "outputs": [
    {
     "data": {
      "text/plain": [
       "1471"
      ]
     },
     "execution_count": 7,
     "metadata": {},
     "output_type": "execute_result"
    }
   ],
   "source": [
    "np.count_nonzero(angle)"
   ]
  },
  {
   "cell_type": "code",
   "execution_count": 8,
   "metadata": {},
   "outputs": [
    {
     "data": {
      "text/plain": [
       "39.26870747790618"
      ]
     },
     "execution_count": 8,
     "metadata": {},
     "output_type": "execute_result"
    }
   ],
   "source": [
    "np.sum(angle)/np.count_nonzero(angle)"
   ]
  },
  {
   "cell_type": "code",
   "execution_count": 9,
   "metadata": {
    "collapsed": true
   },
   "outputs": [],
   "source": [
    "angle[angle == 0] = np.sum(angle)/np.count_nonzero(angle)"
   ]
  },
  {
   "cell_type": "code",
   "execution_count": 10,
   "metadata": {},
   "outputs": [],
   "source": [
    "for i in range(len(angle)):\n",
    "    angle[i]=np.full((75,75),angle[i])"
   ]
  },
  {
   "cell_type": "code",
   "execution_count": 11,
   "metadata": {},
   "outputs": [],
   "source": [
    "X_band_3 = np.empty([len(angle),75,75],dtype=np.float32)\n",
    "\n",
    "for i in range(len(angle)):\n",
    "    for j in range(75):\n",
    "        for k in range(75):\n",
    "            X_band_3[i][j][k] = (X_band_1[i][j][k]-X_band_2[i][j][k])/angle[i][j][k]"
   ]
  },
  {
   "cell_type": "code",
   "execution_count": 12,
   "metadata": {},
   "outputs": [],
   "source": [
    "X_train = np.concatenate([X_band_1[:, :, :, np.newaxis,]/30, X_band_2[:, :, :, np.newaxis,]/30,X_band_3[:, :, :, np.newaxis,]], axis=-1)"
   ]
  },
  {
   "cell_type": "code",
   "execution_count": 17,
   "metadata": {
    "collapsed": true
   },
   "outputs": [],
   "source": [
    "np.save('X_train',X_train)"
   ]
  },
  {
   "cell_type": "code",
   "execution_count": 13,
   "metadata": {},
   "outputs": [
    {
     "name": "stderr",
     "output_type": "stream",
     "text": [
      "Using TensorFlow backend.\n",
      "/Users/yaqiongzhang/anaconda/lib/python3.6/importlib/_bootstrap.py:205: RuntimeWarning: compiletime version 3.5 of module 'tensorflow.python.framework.fast_tensor_util' does not match runtime version 3.6\n",
      "  return f(*args, **kwds)\n"
     ]
    }
   ],
   "source": [
    "#Import Keras.\n",
    "from matplotlib import pyplot\n",
    "from keras.preprocessing.image import ImageDataGenerator\n",
    "from keras.models import Sequential\n",
    "from keras.layers import Conv2D, MaxPooling2D, Dense, Dropout, Input, Flatten, Activation, BatchNormalization\n",
    "from keras.layers import GlobalMaxPooling2D\n",
    "from keras.layers.normalization import BatchNormalization\n",
    "from keras.layers.merge import Concatenate\n",
    "from keras.models import Model\n",
    "from keras import initializers\n",
    "from keras.optimizers import Adam\n",
    "from keras.callbacks import ModelCheckpoint, Callback, EarlyStopping"
   ]
  },
  {
   "cell_type": "code",
   "execution_count": 14,
   "metadata": {
    "collapsed": true
   },
   "outputs": [],
   "source": [
    "#define our model\n",
    "def getModel():\n",
    "    #Building the model\n",
    "    gmodel=Sequential()\n",
    "    #Conv Layer 1\n",
    "    gmodel.add(Conv2D(64, kernel_size=(3, 3),activation='relu', input_shape=(75, 75, 3)))\n",
    "    gmodel.add(BatchNormalization())\n",
    "    gmodel.add(Conv2D(64, kernel_size=(3, 3),activation='relu'))\n",
    "    gmodel.add(BatchNormalization())\n",
    "    gmodel.add(MaxPooling2D(pool_size=(2, 2), strides=(2, 2)))\n",
    "    gmodel.add(Dropout(0.2))\n",
    "\n",
    "    gmodel.add(Conv2D(64, kernel_size=(3, 3),activation='relu'))\n",
    "    gmodel.add(BatchNormalization())\n",
    "    gmodel.add(Conv2D(64, kernel_size=(3, 3),activation='relu'))\n",
    "    gmodel.add(BatchNormalization())\n",
    "    gmodel.add(MaxPooling2D(pool_size=(2, 2), strides=(2, 2)))\n",
    "    gmodel.add(Dropout(0.2))\n",
    "    \n",
    "    #Flatten the data for upcoming dense layers\n",
    "    gmodel.add(Flatten())\n",
    "\n",
    "    #Dense Layers\n",
    "    gmodel.add(Dense(512))\n",
    "    gmodel.add(Activation('relu'))\n",
    "    gmodel.add(Dropout(0.2))\n",
    "\n",
    "    #Dense Layer 2\n",
    "    gmodel.add(Dense(256))\n",
    "    gmodel.add(Activation('relu'))\n",
    "    gmodel.add(Dropout(0.2))\n",
    "\n",
    "    #Sigmoid Layer\n",
    "    gmodel.add(Dense(1))\n",
    "    gmodel.add(Activation('sigmoid'))\n",
    "\n",
    "    mypotim=Adam(lr=0.001, beta_1=0.9, beta_2=0.999, epsilon=1e-08, decay=0.0)\n",
    "    gmodel.compile(loss='binary_crossentropy',\n",
    "                  optimizer=mypotim,\n",
    "                  metrics=['accuracy'])\n",
    "    gmodel.summary()\n",
    "    return gmodel\n",
    "\n",
    "\n",
    "def get_callbacks(filepath, patience=2):\n",
    "    es = EarlyStopping('val_loss', patience=patience, mode=\"min\")\n",
    "    msave = ModelCheckpoint(filepath, save_best_only=True)\n",
    "    return [es, msave]\n",
    "\n",
    "file_path = \"model_weights.hdf5\"\n",
    "callbacks = get_callbacks(filepath=file_path, patience=5)"
   ]
  },
  {
   "cell_type": "code",
   "execution_count": 16,
   "metadata": {},
   "outputs": [
    {
     "name": "stdout",
     "output_type": "stream",
     "text": [
      "_________________________________________________________________\n",
      "Layer (type)                 Output Shape              Param #   \n",
      "=================================================================\n",
      "conv2d_5 (Conv2D)            (None, 73, 73, 64)        1792      \n",
      "_________________________________________________________________\n",
      "batch_normalization_5 (Batch (None, 73, 73, 64)        256       \n",
      "_________________________________________________________________\n",
      "conv2d_6 (Conv2D)            (None, 71, 71, 64)        36928     \n",
      "_________________________________________________________________\n",
      "batch_normalization_6 (Batch (None, 71, 71, 64)        256       \n",
      "_________________________________________________________________\n",
      "max_pooling2d_3 (MaxPooling2 (None, 35, 35, 64)        0         \n",
      "_________________________________________________________________\n",
      "dropout_5 (Dropout)          (None, 35, 35, 64)        0         \n",
      "_________________________________________________________________\n",
      "conv2d_7 (Conv2D)            (None, 33, 33, 64)        36928     \n",
      "_________________________________________________________________\n",
      "batch_normalization_7 (Batch (None, 33, 33, 64)        256       \n",
      "_________________________________________________________________\n",
      "conv2d_8 (Conv2D)            (None, 31, 31, 64)        36928     \n",
      "_________________________________________________________________\n",
      "batch_normalization_8 (Batch (None, 31, 31, 64)        256       \n",
      "_________________________________________________________________\n",
      "max_pooling2d_4 (MaxPooling2 (None, 15, 15, 64)        0         \n",
      "_________________________________________________________________\n",
      "dropout_6 (Dropout)          (None, 15, 15, 64)        0         \n",
      "_________________________________________________________________\n",
      "flatten_2 (Flatten)          (None, 14400)             0         \n",
      "_________________________________________________________________\n",
      "dense_4 (Dense)              (None, 512)               7373312   \n",
      "_________________________________________________________________\n",
      "activation_4 (Activation)    (None, 512)               0         \n",
      "_________________________________________________________________\n",
      "dropout_7 (Dropout)          (None, 512)               0         \n",
      "_________________________________________________________________\n",
      "dense_5 (Dense)              (None, 256)               131328    \n",
      "_________________________________________________________________\n",
      "activation_5 (Activation)    (None, 256)               0         \n",
      "_________________________________________________________________\n",
      "dropout_8 (Dropout)          (None, 256)               0         \n",
      "_________________________________________________________________\n",
      "dense_6 (Dense)              (None, 1)                 257       \n",
      "_________________________________________________________________\n",
      "activation_6 (Activation)    (None, 1)                 0         \n",
      "=================================================================\n",
      "Total params: 7,618,497\n",
      "Trainable params: 7,617,985\n",
      "Non-trainable params: 512\n",
      "_________________________________________________________________\n",
      "Train on 1443 samples, validate on 161 samples\n",
      "Epoch 1/30\n",
      "1443/1443 [==============================] - 125s 87ms/step - loss: 2.1439 - acc: 0.6230 - val_loss: 0.9817 - val_acc: 0.4472\n",
      "Epoch 2/30\n",
      "1443/1443 [==============================] - 120s 83ms/step - loss: 0.8112 - acc: 0.7325 - val_loss: 0.7881 - val_acc: 0.5590\n",
      "Epoch 3/30\n",
      "1443/1443 [==============================] - 122s 85ms/step - loss: 0.5241 - acc: 0.7803 - val_loss: 0.7685 - val_acc: 0.5590\n",
      "Epoch 4/30\n",
      "1443/1443 [==============================] - 125s 87ms/step - loss: 0.4984 - acc: 0.7983 - val_loss: 0.8185 - val_acc: 0.5217\n",
      "Epoch 5/30\n",
      "1443/1443 [==============================] - 124s 86ms/step - loss: 0.3417 - acc: 0.8531 - val_loss: 0.6295 - val_acc: 0.6398\n",
      "Epoch 6/30\n",
      "1443/1443 [==============================] - 124s 86ms/step - loss: 0.3503 - acc: 0.8593 - val_loss: 0.8489 - val_acc: 0.5590\n",
      "Epoch 7/30\n",
      "1443/1443 [==============================] - 128s 88ms/step - loss: 0.3278 - acc: 0.8773 - val_loss: 1.4231 - val_acc: 0.5901\n",
      "Epoch 8/30\n",
      "1443/1443 [==============================] - 129s 90ms/step - loss: 0.2644 - acc: 0.8912 - val_loss: 0.4934 - val_acc: 0.7640\n",
      "Epoch 9/30\n",
      "1443/1443 [==============================] - 135s 93ms/step - loss: 0.2061 - acc: 0.9155 - val_loss: 0.4393 - val_acc: 0.7640\n",
      "Epoch 10/30\n",
      "1443/1443 [==============================] - 131s 90ms/step - loss: 0.2083 - acc: 0.9203 - val_loss: 0.6428 - val_acc: 0.7702\n",
      "Epoch 11/30\n",
      "1443/1443 [==============================] - 133s 92ms/step - loss: 0.4270 - acc: 0.8857 - val_loss: 0.4805 - val_acc: 0.8012\n",
      "Epoch 12/30\n",
      "1443/1443 [==============================] - 135s 93ms/step - loss: 0.1905 - acc: 0.9231 - val_loss: 0.3253 - val_acc: 0.8571\n",
      "Epoch 13/30\n",
      "1443/1443 [==============================] - 138s 96ms/step - loss: 0.2649 - acc: 0.8967 - val_loss: 0.4492 - val_acc: 0.7205\n",
      "Epoch 14/30\n",
      "1443/1443 [==============================] - 133s 92ms/step - loss: 0.3189 - acc: 0.8919 - val_loss: 0.8789 - val_acc: 0.7267\n",
      "Epoch 15/30\n",
      "1443/1443 [==============================] - 136s 94ms/step - loss: 0.1751 - acc: 0.9335 - val_loss: 0.2823 - val_acc: 0.8820\n",
      "Epoch 16/30\n",
      "1443/1443 [==============================] - 137s 95ms/step - loss: 0.1462 - acc: 0.9563 - val_loss: 0.4378 - val_acc: 0.8447\n",
      "Epoch 17/30\n",
      "1443/1443 [==============================] - 134s 93ms/step - loss: 0.1064 - acc: 0.9563 - val_loss: 0.4458 - val_acc: 0.8385\n",
      "Epoch 18/30\n",
      "1443/1443 [==============================] - 133s 92ms/step - loss: 0.1455 - acc: 0.9418 - val_loss: 0.3313 - val_acc: 0.8634\n",
      "Epoch 19/30\n",
      "1443/1443 [==============================] - 134s 93ms/step - loss: 0.1180 - acc: 0.9640 - val_loss: 0.4097 - val_acc: 0.8509\n",
      "Epoch 20/30\n",
      "1443/1443 [==============================] - 129s 90ms/step - loss: 0.0858 - acc: 0.9771 - val_loss: 1.1135 - val_acc: 0.7702\n"
     ]
    }
   ],
   "source": [
    "X_train_cv, X_valid, y_train_cv, y_valid = train_test_split(X_train, target_train, train_size=0.9)\n",
    "#Without denoising, core features.\n",
    "\n",
    "import os\n",
    "gmodel=getModel()\n",
    "history = gmodel.fit(X_train_cv, y_train_cv,\n",
    "          batch_size=24,\n",
    "          epochs=30,\n",
    "          verbose=1,\n",
    "          validation_data=(X_valid, y_valid),\n",
    "          callbacks=callbacks)"
   ]
  },
  {
   "cell_type": "code",
   "execution_count": null,
   "metadata": {
    "collapsed": true
   },
   "outputs": [],
   "source": []
  }
 ],
 "metadata": {
  "kernelspec": {
   "display_name": "Python 3",
   "language": "python",
   "name": "python3"
  },
  "language_info": {
   "codemirror_mode": {
    "name": "ipython",
    "version": 3
   },
   "file_extension": ".py",
   "mimetype": "text/x-python",
   "name": "python",
   "nbconvert_exporter": "python",
   "pygments_lexer": "ipython3",
   "version": "3.6.1"
  }
 },
 "nbformat": 4,
 "nbformat_minor": 2
}
