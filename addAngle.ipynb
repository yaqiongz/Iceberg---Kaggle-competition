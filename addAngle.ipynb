{
 "cells": [
  {
   "cell_type": "markdown",
   "metadata": {},
   "source": [
    "out put file:\n",
    "X_train.npy\n"
   ]
  },
  {
   "cell_type": "code",
   "execution_count": 1,
   "metadata": {
    "collapsed": true
   },
   "outputs": [],
   "source": [
    "import numpy as np\n",
    "from sklearn.model_selection import train_test_split\n"
   ]
  },
  {
   "cell_type": "code",
   "execution_count": 2,
   "metadata": {
    "collapsed": true
   },
   "outputs": [],
   "source": [
    "train = np.load('train.npy')\n",
    "test = np.load('test.npy')"
   ]
  },
  {
   "cell_type": "code",
   "execution_count": 3,
   "metadata": {
    "collapsed": true,
    "scrolled": true
   },
   "outputs": [],
   "source": [
    "X_band_1=np.array([np.array(band).astype(np.float32).reshape(75, 75) for band in train[:,0]])\n",
    "X_band_2=np.array([np.array(band).astype(np.float32).reshape(75, 75) for band in train[:,1]])\n",
    "angle=train[:,3]\n",
    "target_train = train[:,4]"
   ]
  },
  {
   "cell_type": "code",
   "execution_count": 4,
   "metadata": {},
   "outputs": [],
   "source": [
    "#replace the missing angle data with the average of the angles\n",
    "\n",
    "np.count_nonzero(angle)\n",
    "angle[angle=='na']=0\n",
    "ave=np.sum(angle)/np.count_nonzero(angle)\n",
    "angle[angle == 0] = np.sum(angle)/np.count_nonzero(angle)"
   ]
  },
  {
   "cell_type": "code",
   "execution_count": 5,
   "metadata": {
    "collapsed": true
   },
   "outputs": [],
   "source": [
    "for i in range(len(angle)):\n",
    "    angle[i]=np.full((75,75),angle[i])"
   ]
  },
  {
   "cell_type": "code",
   "execution_count": 6,
   "metadata": {
    "collapsed": true
   },
   "outputs": [],
   "source": [
    "X_band_3 = np.empty([len(angle),75,75],dtype=np.float32)\n",
    "\n",
    "for i in range(len(angle)):\n",
    "    for j in range(75):\n",
    "        for k in range(75):\n",
    "            X_band_3[i][j][k] = (X_band_1[i][j][k]+X_band_2[i][j][k])*ave/(2*angle[i][j][k])"
   ]
  },
  {
   "cell_type": "code",
   "execution_count": 7,
   "metadata": {
    "collapsed": true
   },
   "outputs": [],
   "source": [
    "X_train = np.concatenate([X_band_1[:, :, :, np.newaxis,], X_band_2[:, :, :, np.newaxis,],X_band_3[:, :, :, np.newaxis,]], axis=-1)"
   ]
  },
  {
   "cell_type": "code",
   "execution_count": 8,
   "metadata": {
    "collapsed": true
   },
   "outputs": [],
   "source": [
    "np.save('X_train',X_train)"
   ]
  },
  {
   "cell_type": "markdown",
   "metadata": {
    "collapsed": true
   },
   "source": [
    "# test data process\n"
   ]
  },
  {
   "cell_type": "code",
   "execution_count": 11,
   "metadata": {},
   "outputs": [],
   "source": [
    "band_1=np.array([np.array(band).astype(np.float32).reshape(75, 75) for band in test[:,0]])\n",
    "band_2=np.array([np.array(band).astype(np.float32).reshape(75, 75) for band in test[:,1]])\n",
    "angle=test[:,3]"
   ]
  },
  {
   "cell_type": "code",
   "execution_count": 12,
   "metadata": {},
   "outputs": [],
   "source": [
    "#replace the missing angle data with the average of the angles\n",
    "\n",
    "np.count_nonzero(angle)\n",
    "angle[angle=='na']=0\n",
    "ave=np.sum(angle)/np.count_nonzero(angle)\n",
    "angle[angle == 0] = np.sum(angle)/np.count_nonzero(angle)"
   ]
  },
  {
   "cell_type": "code",
   "execution_count": 13,
   "metadata": {
    "collapsed": true
   },
   "outputs": [],
   "source": [
    "for i in range(len(angle)):\n",
    "    angle[i]=np.full((75,75),angle[i])"
   ]
  },
  {
   "cell_type": "code",
   "execution_count": 14,
   "metadata": {
    "collapsed": true
   },
   "outputs": [],
   "source": [
    "band_3 = np.empty([len(angle),75,75],dtype=np.float32)\n",
    "\n",
    "for i in range(len(angle)):\n",
    "    for j in range(75):\n",
    "        for k in range(75):\n",
    "            band_3[i][j][k] = (band_1[i][j][k]+band_2[i][j][k])*ave/(2*angle[i][j][k])"
   ]
  },
  {
   "cell_type": "code",
   "execution_count": 15,
   "metadata": {
    "collapsed": true
   },
   "outputs": [],
   "source": [
    "X_test = np.concatenate([band_1[:, :, :, np.newaxis,], band_2[:, :, :, np.newaxis,],band_3[:, :, :, np.newaxis,]], axis=-1)"
   ]
  },
  {
   "cell_type": "code",
   "execution_count": 16,
   "metadata": {
    "collapsed": true
   },
   "outputs": [],
   "source": [
    "np.save('X_test.npy',X_test)"
   ]
  },
  {
   "cell_type": "code",
   "execution_count": null,
   "metadata": {
    "collapsed": true
   },
   "outputs": [],
   "source": []
  }
 ],
 "metadata": {
  "kernelspec": {
   "display_name": "Python 3",
   "language": "python",
   "name": "python3"
  },
  "language_info": {
   "codemirror_mode": {
    "name": "ipython",
    "version": 3
   },
   "file_extension": ".py",
   "mimetype": "text/x-python",
   "name": "python",
   "nbconvert_exporter": "python",
   "pygments_lexer": "ipython3",
   "version": "3.6.1"
  }
 },
 "nbformat": 4,
 "nbformat_minor": 2
}
