{
 "cells": [
  {
   "cell_type": "code",
   "execution_count": 1,
   "metadata": {},
   "outputs": [
    {
     "name": "stderr",
     "output_type": "stream",
     "text": [
      "Using TensorFlow backend.\n",
      "/Users/yaqiongzhang/anaconda/lib/python3.6/importlib/_bootstrap.py:205: RuntimeWarning: compiletime version 3.5 of module 'tensorflow.python.framework.fast_tensor_util' does not match runtime version 3.6\n",
      "  return f(*args, **kwds)\n"
     ]
    }
   ],
   "source": [
    "from keras.preprocessing.image import ImageDataGenerator\n",
    "import numpy as np\n",
    "from sklearn.model_selection import train_test_split\n",
    "from keras.models import Sequential\n",
    "from keras.layers import Dropout, Flatten, Dense\n",
    "from keras import applications\n",
    "from keras.callbacks import ModelCheckpoint, Callback, EarlyStopping\n",
    "from keras import optimizers"
   ]
  },
  {
   "cell_type": "code",
   "execution_count": 2,
   "metadata": {
    "collapsed": true
   },
   "outputs": [],
   "source": [
    "img_width, img_height = 150, 150\n",
    "epochs = 50\n",
    "batch_size = 16\n",
    "split = 0.9"
   ]
  },
  {
   "cell_type": "code",
   "execution_count": 3,
   "metadata": {
    "collapsed": true
   },
   "outputs": [],
   "source": [
    "X_train=np.load('X_train.npy')\n",
    "target_train=np.load('target_train.npy')\n",
    "X_train_cv, X_valid, y_train_cv, y_valid = train_test_split(X_train, target_train[:1604], train_size=split)\n",
    "nb_train_samples = len(X_train_cv)\n",
    "nb_validation_samples = len(X_valid)\n",
    "X_test=np.load('X_test.npy')"
   ]
  },
  {
   "cell_type": "code",
   "execution_count": 4,
   "metadata": {
    "collapsed": true
   },
   "outputs": [],
   "source": [
    "def save_bottlebeck_features():\n",
    "    # build the VGG16 network\n",
    "    model = applications.VGG16(include_top=False, weights='imagenet')\n",
    "    \n",
    "    bottleneck_features_train = model.predict(X_train_cv)\n",
    "    np.save('bottleneck_features_train.npy', bottleneck_features_train)\n",
    "\n",
    "    bottleneck_features_validation = model.predict(X_valid)\n",
    "    np.save('bottleneck_features_validation.npy', bottleneck_features_validation)\n",
    "    \n",
    "    bottleneck_features_validation = model.predict(X_test)\n",
    "    np.save('bottleneck_features_test.npy', bottleneck_features_validation)"
   ]
  },
  {
   "cell_type": "code",
   "execution_count": 5,
   "metadata": {
    "collapsed": true
   },
   "outputs": [],
   "source": [
    "def get_callbacks(filepath, patience=2):\n",
    "    es = EarlyStopping('val_loss', patience=patience, mode=\"min\")\n",
    "    msave = ModelCheckpoint(filepath, save_best_only=True)\n",
    "    return [es, msave]\n"
   ]
  },
  {
   "cell_type": "code",
   "execution_count": 9,
   "metadata": {},
   "outputs": [],
   "source": [
    "def train_top_model():\n",
    "    train_data = np.load('bottleneck_features_train.npy')\n",
    "    \n",
    "    model = Sequential()\n",
    "    model.add(Flatten(input_shape=train_data.shape[1:]))\n",
    "    model.add(Dense(256, activation='relu'))\n",
    "    model.add(Dropout(0.5))\n",
    "    model.add(Dense(1, activation='sigmoid'))\n",
    "\n",
    "    model.compile(optimizer=optimizers.SGD(lr=1e-4, momentum=0.9),\n",
    "                  loss='binary_crossentropy', \n",
    "                  metrics=['accuracy'])\n",
    "    model.summary()\n",
    "    return model\n",
    "    \n",
    "    "
   ]
  },
  {
   "cell_type": "code",
   "execution_count": 10,
   "metadata": {
    "collapsed": true
   },
   "outputs": [],
   "source": [
    "file_path = 'top_model_weights_path.h5'\n",
    "callbacks = get_callbacks(filepath=file_path, patience=5)\n"
   ]
  },
  {
   "cell_type": "code",
   "execution_count": 11,
   "metadata": {},
   "outputs": [
    {
     "name": "stdout",
     "output_type": "stream",
     "text": [
      "_________________________________________________________________\n",
      "Layer (type)                 Output Shape              Param #   \n",
      "=================================================================\n",
      "flatten_1 (Flatten)          (None, 2048)              0         \n",
      "_________________________________________________________________\n",
      "dense_1 (Dense)              (None, 256)               524544    \n",
      "_________________________________________________________________\n",
      "dropout_1 (Dropout)          (None, 256)               0         \n",
      "_________________________________________________________________\n",
      "dense_2 (Dense)              (None, 1)                 257       \n",
      "=================================================================\n",
      "Total params: 524,801\n",
      "Trainable params: 524,801\n",
      "Non-trainable params: 0\n",
      "_________________________________________________________________\n",
      "Train on 1443 samples, validate on 161 samples\n",
      "Epoch 1/50\n",
      "1443/1443 [==============================] - 1s 511us/step - loss: 0.7983 - acc: 0.5495 - val_loss: 0.5751 - val_acc: 0.6770\n",
      "Epoch 2/50\n",
      "1443/1443 [==============================] - 0s 302us/step - loss: 0.6426 - acc: 0.6341 - val_loss: 0.5320 - val_acc: 0.7019\n",
      "Epoch 3/50\n",
      "1443/1443 [==============================] - 0s 308us/step - loss: 0.5347 - acc: 0.7166 - val_loss: 0.5149 - val_acc: 0.7391\n",
      "Epoch 4/50\n",
      "1443/1443 [==============================] - 0s 325us/step - loss: 0.5337 - acc: 0.7159 - val_loss: 0.4903 - val_acc: 0.7578\n",
      "Epoch 5/50\n",
      "1443/1443 [==============================] - 0s 307us/step - loss: 0.4976 - acc: 0.7394 - val_loss: 0.4805 - val_acc: 0.7640\n",
      "Epoch 6/50\n",
      "1443/1443 [==============================] - 0s 341us/step - loss: 0.4962 - acc: 0.7173 - val_loss: 0.4722 - val_acc: 0.7826\n",
      "Epoch 7/50\n",
      "1443/1443 [==============================] - 0s 311us/step - loss: 0.4859 - acc: 0.7380 - val_loss: 0.4694 - val_acc: 0.7826\n",
      "Epoch 8/50\n",
      "1443/1443 [==============================] - 0s 311us/step - loss: 0.4666 - acc: 0.7609 - val_loss: 0.4641 - val_acc: 0.7578\n",
      "Epoch 9/50\n",
      "1443/1443 [==============================] - 1s 362us/step - loss: 0.4670 - acc: 0.7699 - val_loss: 0.4540 - val_acc: 0.7764\n",
      "Epoch 10/50\n",
      "1443/1443 [==============================] - 1s 356us/step - loss: 0.4468 - acc: 0.7852 - val_loss: 0.4487 - val_acc: 0.7888\n",
      "Epoch 11/50\n",
      "1443/1443 [==============================] - 0s 311us/step - loss: 0.4351 - acc: 0.7769 - val_loss: 0.4483 - val_acc: 0.7640\n",
      "Epoch 12/50\n",
      "1443/1443 [==============================] - 1s 366us/step - loss: 0.4373 - acc: 0.7879 - val_loss: 0.4413 - val_acc: 0.7764\n",
      "Epoch 13/50\n",
      "1443/1443 [==============================] - 0s 299us/step - loss: 0.4322 - acc: 0.7921 - val_loss: 0.4419 - val_acc: 0.7640\n",
      "Epoch 14/50\n",
      "1443/1443 [==============================] - 0s 310us/step - loss: 0.4148 - acc: 0.8011 - val_loss: 0.4334 - val_acc: 0.7702\n",
      "Epoch 15/50\n",
      "1443/1443 [==============================] - 0s 311us/step - loss: 0.4280 - acc: 0.7845 - val_loss: 0.4312 - val_acc: 0.7764\n",
      "Epoch 16/50\n",
      "1443/1443 [==============================] - 0s 307us/step - loss: 0.4212 - acc: 0.7976 - val_loss: 0.4275 - val_acc: 0.7888\n",
      "Epoch 17/50\n",
      "1443/1443 [==============================] - 0s 307us/step - loss: 0.4095 - acc: 0.8039 - val_loss: 0.4228 - val_acc: 0.7826\n",
      "Epoch 18/50\n",
      "1443/1443 [==============================] - 1s 366us/step - loss: 0.4057 - acc: 0.8025 - val_loss: 0.4242 - val_acc: 0.8137\n",
      "Epoch 19/50\n",
      "1443/1443 [==============================] - 0s 299us/step - loss: 0.4011 - acc: 0.8129 - val_loss: 0.4237 - val_acc: 0.7702\n",
      "Epoch 20/50\n",
      "1443/1443 [==============================] - 0s 322us/step - loss: 0.4073 - acc: 0.7990 - val_loss: 0.4209 - val_acc: 0.7702\n",
      "Epoch 21/50\n",
      "1443/1443 [==============================] - 1s 374us/step - loss: 0.3961 - acc: 0.8108 - val_loss: 0.4164 - val_acc: 0.7702\n",
      "Epoch 22/50\n",
      "1443/1443 [==============================] - 0s 300us/step - loss: 0.3996 - acc: 0.8073 - val_loss: 0.4170 - val_acc: 0.7702\n",
      "Epoch 23/50\n",
      "1443/1443 [==============================] - 0s 307us/step - loss: 0.3895 - acc: 0.8143 - val_loss: 0.4162 - val_acc: 0.7702\n",
      "Epoch 24/50\n",
      "1443/1443 [==============================] - 0s 302us/step - loss: 0.3926 - acc: 0.8053 - val_loss: 0.4181 - val_acc: 0.8199\n",
      "Epoch 25/50\n",
      "1443/1443 [==============================] - 1s 371us/step - loss: 0.3899 - acc: 0.8122 - val_loss: 0.4148 - val_acc: 0.7640\n",
      "Epoch 26/50\n",
      "1443/1443 [==============================] - 0s 309us/step - loss: 0.3814 - acc: 0.8080 - val_loss: 0.4133 - val_acc: 0.7888\n",
      "Epoch 27/50\n",
      "1443/1443 [==============================] - 0s 308us/step - loss: 0.3795 - acc: 0.8212 - val_loss: 0.4091 - val_acc: 0.7888\n",
      "Epoch 28/50\n",
      "1443/1443 [==============================] - 0s 297us/step - loss: 0.3670 - acc: 0.8351 - val_loss: 0.4105 - val_acc: 0.7702\n",
      "Epoch 29/50\n",
      "1443/1443 [==============================] - 1s 427us/step - loss: 0.3681 - acc: 0.8247 - val_loss: 0.4056 - val_acc: 0.8012\n",
      "Epoch 30/50\n",
      "1443/1443 [==============================] - 1s 351us/step - loss: 0.3748 - acc: 0.8247 - val_loss: 0.4045 - val_acc: 0.7950\n",
      "Epoch 31/50\n",
      "1443/1443 [==============================] - 0s 329us/step - loss: 0.3719 - acc: 0.8170 - val_loss: 0.4013 - val_acc: 0.8012\n",
      "Epoch 32/50\n",
      "1443/1443 [==============================] - 1s 354us/step - loss: 0.3718 - acc: 0.8240 - val_loss: 0.4014 - val_acc: 0.8012\n",
      "Epoch 33/50\n",
      "1443/1443 [==============================] - 0s 321us/step - loss: 0.3628 - acc: 0.8358 - val_loss: 0.3991 - val_acc: 0.7888\n",
      "Epoch 34/50\n",
      "1443/1443 [==============================] - 0s 343us/step - loss: 0.3717 - acc: 0.8274 - val_loss: 0.4002 - val_acc: 0.7764\n",
      "Epoch 35/50\n",
      "1443/1443 [==============================] - 0s 326us/step - loss: 0.3739 - acc: 0.8219 - val_loss: 0.4036 - val_acc: 0.7702\n",
      "Epoch 36/50\n",
      "1443/1443 [==============================] - 0s 345us/step - loss: 0.3619 - acc: 0.8295 - val_loss: 0.4006 - val_acc: 0.8012\n",
      "Epoch 37/50\n",
      "1443/1443 [==============================] - 1s 471us/step - loss: 0.3537 - acc: 0.8413 - val_loss: 0.4040 - val_acc: 0.7764\n",
      "Epoch 38/50\n",
      "1443/1443 [==============================] - 1s 415us/step - loss: 0.3668 - acc: 0.8316 - val_loss: 0.4002 - val_acc: 0.7826\n"
     ]
    }
   ],
   "source": [
    "import os\n",
    "save_bottlebeck_features()\n",
    "model = train_top_model()\n",
    "train_data = np.load('bottleneck_features_train.npy')\n",
    "validation_data = np.load('bottleneck_features_validation.npy')\n",
    "    \n",
    "\n",
    "history = model.fit(train_data, y_train_cv,\n",
    "                    epochs=epochs,\n",
    "                    batch_size=batch_size,\n",
    "                    validation_data=(validation_data, y_valid),\n",
    "                    callbacks=callbacks)"
   ]
  },
  {
   "cell_type": "code",
   "execution_count": 12,
   "metadata": {},
   "outputs": [
    {
     "name": "stdout",
     "output_type": "stream",
     "text": [
      "161/161 [==============================] - 0s 65us/step\n",
      "Test loss: 0.399125587982\n",
      "Test accuracy: 0.788819875776\n"
     ]
    }
   ],
   "source": [
    "model.load_weights(filepath=file_path)\n",
    "score = model.evaluate(validation_data, y_valid, verbose=1)\n",
    "print('Test loss:', score[0])\n",
    "print('Test accuracy:', score[1])"
   ]
  },
  {
   "cell_type": "code",
   "execution_count": null,
   "metadata": {},
   "outputs": [],
   "source": [
    "X_test = np.load('bottleneck_features_test.npy')\n",
    "predicted_test=model.predict(X_test,verbose=1)"
   ]
  },
  {
   "cell_type": "code",
   "execution_count": null,
   "metadata": {
    "collapsed": true
   },
   "outputs": [],
   "source": [
    "import pandas as pd\n",
    "submission = pd.DataFrame()\n",
    "test_id=np.load('test_id.npy')\n",
    "submission['id']=test_id\n",
    "submission['is_iceberg']=predicted_test.reshape((predicted_test.shape[0]))\n",
    "submission.to_csv('sub.csv', index=False)"
   ]
  }
 ],
 "metadata": {
  "kernelspec": {
   "display_name": "Python 3",
   "language": "python",
   "name": "python3"
  },
  "language_info": {
   "codemirror_mode": {
    "name": "ipython",
    "version": 3
   },
   "file_extension": ".py",
   "mimetype": "text/x-python",
   "name": "python",
   "nbconvert_exporter": "python",
   "pygments_lexer": "ipython3",
   "version": "3.6.1"
  }
 },
 "nbformat": 4,
 "nbformat_minor": 2
}
