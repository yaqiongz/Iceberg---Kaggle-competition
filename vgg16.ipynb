{
 "cells": [
  {
   "cell_type": "code",
   "execution_count": 1,
   "metadata": {},
   "outputs": [
    {
     "name": "stderr",
     "output_type": "stream",
     "text": [
      "Using TensorFlow backend.\n",
      "/Users/yaqiongzhang/anaconda/lib/python3.6/importlib/_bootstrap.py:205: RuntimeWarning: compiletime version 3.5 of module 'tensorflow.python.framework.fast_tensor_util' does not match runtime version 3.6\n",
      "  return f(*args, **kwds)\n"
     ]
    }
   ],
   "source": [
    "from keras.preprocessing.image import ImageDataGenerator\n",
    "import numpy as np\n",
    "from sklearn.model_selection import train_test_split\n",
    "from keras.models import Sequential\n",
    "from keras.layers import Dropout, Flatten, Dense\n",
    "from keras import applications"
   ]
  },
  {
   "cell_type": "code",
   "execution_count": 2,
   "metadata": {
    "collapsed": true
   },
   "outputs": [],
   "source": [
    "img_width, img_height = 150, 150\n",
    "epochs = 50\n",
    "batch_size = 16\n",
    "split = 0.9"
   ]
  },
  {
   "cell_type": "code",
   "execution_count": 3,
   "metadata": {
    "collapsed": true
   },
   "outputs": [],
   "source": [
    "X_train=np.load('X_train.npy')\n",
    "target_train=np.load('target_train.npy')\n",
    "X_train_cv, X_valid, y_train_cv, y_valid = train_test_split(X_train, target_train[:1604], train_size=split)\n",
    "nb_train_samples = len(X_train_cv)\n",
    "nb_validation_samples = len(X_valid)"
   ]
  },
  {
   "cell_type": "code",
   "execution_count": 7,
   "metadata": {},
   "outputs": [],
   "source": [
    "def save_bottlebeck_features():\n",
    "    datagen = ImageDataGenerator(rescale=1. / 255)\n",
    "\n",
    "    # build the VGG16 network\n",
    "    model = applications.VGG16(include_top=False, weights='imagenet')\n",
    "    \n",
    "    bottleneck_features_train = model.predict(X_train_cv)\n",
    "    np.save('bottleneck_features_train.npy', bottleneck_features_train)\n",
    "\n",
    "    bottleneck_features_validation = model.predict(X_valid)\n",
    "    np.save('bottleneck_features_validation.npy', bottleneck_features_validation)"
   ]
  },
  {
   "cell_type": "code",
   "execution_count": 8,
   "metadata": {},
   "outputs": [],
   "source": [
    "def train_top_model():\n",
    "    train_data = np.load('bottleneck_features_train.npy')\n",
    "\n",
    "    validation_data = np.load('bottleneck_features_validation.npy')\n",
    "    \n",
    "    model = Sequential()\n",
    "    model.add(Flatten(input_shape=train_data.shape[1:]))\n",
    "    model.add(Dense(256, activation='relu'))\n",
    "    model.add(Dropout(0.5))\n",
    "    model.add(Dense(1, activation='sigmoid'))\n",
    "\n",
    "    model.compile(optimizer='rmsprop',\n",
    "                  loss='binary_crossentropy', \n",
    "                  metrics=['accuracy'])\n",
    "\n",
    "    model.fit(train_data, y_train_cv,\n",
    "              epochs=epochs,\n",
    "              batch_size=batch_size,\n",
    "              validation_data=(validation_data, y_valid))\n",
    "    \n",
    "    model.save_weights('top_model_weights_path')\n"
   ]
  },
  {
   "cell_type": "code",
   "execution_count": 9,
   "metadata": {},
   "outputs": [
    {
     "name": "stdout",
     "output_type": "stream",
     "text": [
      "Train on 1443 samples, validate on 161 samples\n",
      "Epoch 1/50\n",
      "1443/1443 [==============================] - 1s 686us/step - loss: 0.6325 - acc: 0.6979 - val_loss: 0.4719 - val_acc: 0.7826\n",
      "Epoch 2/50\n",
      "1443/1443 [==============================] - 1s 429us/step - loss: 0.4477 - acc: 0.7762 - val_loss: 0.5116 - val_acc: 0.6894\n",
      "Epoch 3/50\n",
      "1443/1443 [==============================] - 1s 421us/step - loss: 0.4032 - acc: 0.8053 - val_loss: 0.4153 - val_acc: 0.8012\n",
      "Epoch 4/50\n",
      "1443/1443 [==============================] - 1s 587us/step - loss: 0.3730 - acc: 0.8219 - val_loss: 0.4755 - val_acc: 0.7329\n",
      "Epoch 5/50\n",
      "1443/1443 [==============================] - 1s 519us/step - loss: 0.3537 - acc: 0.8288 - val_loss: 0.3498 - val_acc: 0.8012\n",
      "Epoch 6/50\n",
      "1443/1443 [==============================] - 1s 443us/step - loss: 0.3466 - acc: 0.8399 - val_loss: 0.3806 - val_acc: 0.8137\n",
      "Epoch 7/50\n",
      "1443/1443 [==============================] - 1s 491us/step - loss: 0.3315 - acc: 0.8489 - val_loss: 0.3636 - val_acc: 0.8447\n",
      "Epoch 8/50\n",
      "1443/1443 [==============================] - 1s 431us/step - loss: 0.3025 - acc: 0.8669 - val_loss: 0.3352 - val_acc: 0.8571\n",
      "Epoch 9/50\n",
      "1443/1443 [==============================] - 1s 404us/step - loss: 0.3063 - acc: 0.8614 - val_loss: 0.3451 - val_acc: 0.8509\n",
      "Epoch 10/50\n",
      "1443/1443 [==============================] - 1s 401us/step - loss: 0.2893 - acc: 0.8669 - val_loss: 0.3798 - val_acc: 0.8571\n",
      "Epoch 11/50\n",
      "1443/1443 [==============================] - 1s 415us/step - loss: 0.2767 - acc: 0.8815 - val_loss: 0.4007 - val_acc: 0.8199\n",
      "Epoch 12/50\n",
      "1443/1443 [==============================] - 1s 364us/step - loss: 0.2635 - acc: 0.8863 - val_loss: 0.3928 - val_acc: 0.8447\n",
      "Epoch 13/50\n",
      "1443/1443 [==============================] - 1s 422us/step - loss: 0.2553 - acc: 0.8787 - val_loss: 0.3658 - val_acc: 0.8509\n",
      "Epoch 14/50\n",
      "1443/1443 [==============================] - 1s 394us/step - loss: 0.2376 - acc: 0.8933 - val_loss: 0.4161 - val_acc: 0.8261\n",
      "Epoch 15/50\n",
      "1443/1443 [==============================] - 1s 393us/step - loss: 0.2300 - acc: 0.8933 - val_loss: 0.3433 - val_acc: 0.8696\n",
      "Epoch 16/50\n",
      "1443/1443 [==============================] - 1s 429us/step - loss: 0.2203 - acc: 0.8967 - val_loss: 0.3575 - val_acc: 0.8509\n",
      "Epoch 17/50\n",
      "1443/1443 [==============================] - 1s 370us/step - loss: 0.2006 - acc: 0.9078 - val_loss: 0.4743 - val_acc: 0.8199\n",
      "Epoch 18/50\n",
      "1443/1443 [==============================] - 1s 491us/step - loss: 0.2059 - acc: 0.9113 - val_loss: 0.4388 - val_acc: 0.8447\n",
      "Epoch 19/50\n",
      "1443/1443 [==============================] - 1s 365us/step - loss: 0.1977 - acc: 0.9127 - val_loss: 0.3924 - val_acc: 0.8634\n",
      "Epoch 20/50\n",
      "1443/1443 [==============================] - 0s 342us/step - loss: 0.1801 - acc: 0.9307 - val_loss: 0.3929 - val_acc: 0.8634\n",
      "Epoch 21/50\n",
      "1443/1443 [==============================] - 1s 350us/step - loss: 0.1631 - acc: 0.9252 - val_loss: 0.4026 - val_acc: 0.8634\n",
      "Epoch 22/50\n",
      "1443/1443 [==============================] - 1s 347us/step - loss: 0.1819 - acc: 0.9265 - val_loss: 0.4067 - val_acc: 0.8509\n",
      "Epoch 23/50\n",
      "1443/1443 [==============================] - 1s 350us/step - loss: 0.1634 - acc: 0.9293 - val_loss: 0.4517 - val_acc: 0.8509\n",
      "Epoch 24/50\n",
      "1443/1443 [==============================] - 0s 340us/step - loss: 0.1570 - acc: 0.9245 - val_loss: 0.5087 - val_acc: 0.8447\n",
      "Epoch 25/50\n",
      "1443/1443 [==============================] - 1s 374us/step - loss: 0.1581 - acc: 0.9404 - val_loss: 0.5512 - val_acc: 0.8323\n",
      "Epoch 26/50\n",
      "1443/1443 [==============================] - 1s 456us/step - loss: 0.1506 - acc: 0.9356 - val_loss: 0.4397 - val_acc: 0.8696\n",
      "Epoch 27/50\n",
      "1443/1443 [==============================] - 1s 350us/step - loss: 0.1300 - acc: 0.9425 - val_loss: 0.5016 - val_acc: 0.8571\n",
      "Epoch 28/50\n",
      "1443/1443 [==============================] - 1s 357us/step - loss: 0.1388 - acc: 0.9453 - val_loss: 0.4944 - val_acc: 0.8634\n",
      "Epoch 29/50\n",
      "1443/1443 [==============================] - 0s 345us/step - loss: 0.1311 - acc: 0.9459 - val_loss: 0.4255 - val_acc: 0.8882\n",
      "Epoch 30/50\n",
      "1443/1443 [==============================] - 1s 358us/step - loss: 0.1306 - acc: 0.9480 - val_loss: 0.5667 - val_acc: 0.8385\n",
      "Epoch 31/50\n",
      "1443/1443 [==============================] - 0s 344us/step - loss: 0.1192 - acc: 0.9556 - val_loss: 0.6208 - val_acc: 0.8199\n",
      "Epoch 32/50\n",
      "1443/1443 [==============================] - 0s 337us/step - loss: 0.1157 - acc: 0.9515 - val_loss: 0.5071 - val_acc: 0.8634\n",
      "Epoch 33/50\n",
      "1443/1443 [==============================] - 0s 343us/step - loss: 0.1216 - acc: 0.9536 - val_loss: 0.5212 - val_acc: 0.8882\n",
      "Epoch 34/50\n",
      "1443/1443 [==============================] - 1s 347us/step - loss: 0.1104 - acc: 0.9550 - val_loss: 0.4914 - val_acc: 0.8882\n",
      "Epoch 35/50\n",
      "1443/1443 [==============================] - 1s 359us/step - loss: 0.1034 - acc: 0.9577 - val_loss: 0.6017 - val_acc: 0.8571\n",
      "Epoch 36/50\n",
      "1443/1443 [==============================] - 1s 363us/step - loss: 0.1075 - acc: 0.9612 - val_loss: 0.6646 - val_acc: 0.8571\n",
      "Epoch 37/50\n",
      "1443/1443 [==============================] - 1s 358us/step - loss: 0.0983 - acc: 0.9605 - val_loss: 0.6820 - val_acc: 0.8571\n",
      "Epoch 38/50\n",
      "1443/1443 [==============================] - 1s 360us/step - loss: 0.0947 - acc: 0.9626 - val_loss: 0.6350 - val_acc: 0.8509\n",
      "Epoch 39/50\n",
      "1443/1443 [==============================] - 1s 358us/step - loss: 0.0888 - acc: 0.9633 - val_loss: 0.6765 - val_acc: 0.8509\n",
      "Epoch 40/50\n",
      "1443/1443 [==============================] - 1s 403us/step - loss: 0.0764 - acc: 0.9660 - val_loss: 0.6384 - val_acc: 0.8634\n",
      "Epoch 41/50\n",
      "1443/1443 [==============================] - 1s 380us/step - loss: 0.0788 - acc: 0.9709 - val_loss: 0.6576 - val_acc: 0.8634\n",
      "Epoch 42/50\n",
      "1443/1443 [==============================] - 1s 355us/step - loss: 0.0890 - acc: 0.9660 - val_loss: 0.6330 - val_acc: 0.8634\n",
      "Epoch 43/50\n",
      "1443/1443 [==============================] - 0s 340us/step - loss: 0.0790 - acc: 0.9709 - val_loss: 0.7045 - val_acc: 0.8634\n",
      "Epoch 44/50\n",
      "1443/1443 [==============================] - 1s 356us/step - loss: 0.0826 - acc: 0.9674 - val_loss: 0.6896 - val_acc: 0.8571\n",
      "Epoch 45/50\n",
      "1443/1443 [==============================] - 1s 353us/step - loss: 0.0660 - acc: 0.9723 - val_loss: 0.7806 - val_acc: 0.8447\n",
      "Epoch 46/50\n",
      "1443/1443 [==============================] - 0s 346us/step - loss: 0.0691 - acc: 0.9744 - val_loss: 0.6916 - val_acc: 0.8696\n",
      "Epoch 47/50\n",
      "1443/1443 [==============================] - 1s 351us/step - loss: 0.0695 - acc: 0.9737 - val_loss: 0.8171 - val_acc: 0.8385\n",
      "Epoch 48/50\n",
      "1443/1443 [==============================] - 0s 345us/step - loss: 0.0608 - acc: 0.9737 - val_loss: 0.7791 - val_acc: 0.8509\n",
      "Epoch 49/50\n",
      "1443/1443 [==============================] - 0s 334us/step - loss: 0.0630 - acc: 0.9757 - val_loss: 0.8059 - val_acc: 0.8634\n",
      "Epoch 50/50\n",
      "1443/1443 [==============================] - 0s 337us/step - loss: 0.0591 - acc: 0.9778 - val_loss: 0.7478 - val_acc: 0.8882\n"
     ]
    },
    {
     "ename": "NameError",
     "evalue": "name 'top_model_weights_path' is not defined",
     "output_type": "error",
     "traceback": [
      "\u001b[0;31m---------------------------------------------------------------------------\u001b[0m",
      "\u001b[0;31mNameError\u001b[0m                                 Traceback (most recent call last)",
      "\u001b[0;32m<ipython-input-9-2d591a4df5a7>\u001b[0m in \u001b[0;36m<module>\u001b[0;34m()\u001b[0m\n\u001b[1;32m      1\u001b[0m \u001b[0msave_bottlebeck_features\u001b[0m\u001b[0;34m(\u001b[0m\u001b[0;34m)\u001b[0m\u001b[0;34m\u001b[0m\u001b[0m\n\u001b[0;32m----> 2\u001b[0;31m \u001b[0mtrain_top_model\u001b[0m\u001b[0;34m(\u001b[0m\u001b[0;34m)\u001b[0m\u001b[0;34m\u001b[0m\u001b[0m\n\u001b[0m",
      "\u001b[0;32m<ipython-input-8-c94b4a6edfa5>\u001b[0m in \u001b[0;36mtrain_top_model\u001b[0;34m()\u001b[0m\n\u001b[1;32m     19\u001b[0m               validation_data=(validation_data, y_valid))\n\u001b[1;32m     20\u001b[0m \u001b[0;34m\u001b[0m\u001b[0m\n\u001b[0;32m---> 21\u001b[0;31m     \u001b[0mmodel\u001b[0m\u001b[0;34m.\u001b[0m\u001b[0msave_weights\u001b[0m\u001b[0;34m(\u001b[0m\u001b[0mtop_model_weights_path\u001b[0m\u001b[0;34m)\u001b[0m\u001b[0;34m\u001b[0m\u001b[0m\n\u001b[0m",
      "\u001b[0;31mNameError\u001b[0m: name 'top_model_weights_path' is not defined"
     ]
    }
   ],
   "source": [
    "save_bottlebeck_features()\n",
    "train_top_model()"
   ]
  },
  {
   "cell_type": "code",
   "execution_count": null,
   "metadata": {
    "collapsed": true
   },
   "outputs": [],
   "source": []
  }
 ],
 "metadata": {
  "kernelspec": {
   "display_name": "Python 3",
   "language": "python",
   "name": "python3"
  },
  "language_info": {
   "codemirror_mode": {
    "name": "ipython",
    "version": 3
   },
   "file_extension": ".py",
   "mimetype": "text/x-python",
   "name": "python",
   "nbconvert_exporter": "python",
   "pygments_lexer": "ipython3",
   "version": "3.6.1"
  }
 },
 "nbformat": 4,
 "nbformat_minor": 2
}
